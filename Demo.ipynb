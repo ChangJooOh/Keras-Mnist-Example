{
 "cells": [
  {
   "cell_type": "code",
   "execution_count": 1,
   "metadata": {
    "collapsed": true,
    "slideshow": {
     "slide_type": "slide"
    }
   },
   "outputs": [],
   "source": [
    "%matplotlib inline\n",
    "\n",
    "import math\n",
    "import random\n",
    "\n",
    "import numpy as np\n",
    "import matplotlib.pyplot as plt\n",
    "from IPython.display import SVG"
   ]
  },
  {
   "cell_type": "code",
   "execution_count": 2,
   "metadata": {
    "collapsed": false
   },
   "outputs": [
    {
     "name": "stderr",
     "output_type": "stream",
     "text": [
      "Using TensorFlow backend.\n"
     ]
    }
   ],
   "source": [
    "from keras.models import Sequential\n",
    "from keras.layers.core import Dense, Dropout\n",
    "from keras.optimizers import SGD, Adam\n",
    "from keras.utils import np_utils\n",
    "from keras.utils.visualize_util import model_to_dot\n",
    "from keras.datasets import mnist"
   ]
  },
  {
   "cell_type": "code",
   "execution_count": 3,
   "metadata": {
    "collapsed": true
   },
   "outputs": [],
   "source": [
    "# Number of epoch\n",
    "NP_EPOCH = 20"
   ]
  },
  {
   "cell_type": "code",
   "execution_count": 4,
   "metadata": {
    "collapsed": false,
    "slideshow": {
     "slide_type": "slide"
    }
   },
   "outputs": [
    {
     "name": "stdout",
     "output_type": "stream",
     "text": [
      "(60000, 28, 28)\n",
      "(10000, 28, 28)\n"
     ]
    }
   ],
   "source": [
    "# Load data from keras\n",
    "(X_train, y_train), (X_test, y_test) = mnist.load_data()\n",
    "\n",
    "print(X_train.shape)\n",
    "print(X_test.shape)"
   ]
  },
  {
   "cell_type": "code",
   "execution_count": 5,
   "metadata": {
    "collapsed": false,
    "slideshow": {
     "slide_type": "subslide"
    }
   },
   "outputs": [
    {
     "data": {
      "image/png": "[encoded data removed]",
      "text/plain": [
       "<matplotlib.figure.Figure at 0x11a6a1cf8>"
      ]
     },
     "metadata": {},
     "output_type": "display_data"
    }
   ],
   "source": [
    "for i in range(9):\n",
    "    plt.subplot(3,3,i+1)\n",
    "    plt.imshow(X_train[i], cmap='gray', interpolation='none')\n",
    "    plt.title(\"Class {}\".format(y_train[i]))\n",
    "plt.tight_layout()"
   ]
  },
  {
   "cell_type": "code",
   "execution_count": 6,
   "metadata": {
    "collapsed": false,
    "slideshow": {
     "slide_type": "slide"
    }
   },
   "outputs": [
    {
     "name": "stdout",
     "output_type": "stream",
     "text": [
      "[ 0.  0.  0.  0.  0.  1.  0.  0.  0.  0.]\n"
     ]
    }
   ],
   "source": [
    "X_train = X_train.reshape(60000, 784)\n",
    "X_test = X_test.reshape(10000, 784)\n",
    "\n",
    "X_train = X_train.astype('float32')\n",
    "X_test = X_test.astype('float32')\n",
    "\n",
    "X_train /= 255\n",
    "X_test /= 255\n",
    "\n",
    "Y_train = np_utils.to_categorical(y_train, 10)\n",
    "Y_test = np_utils.to_categorical(y_test, 10)\n",
    "\n",
    "print(Y_train[0])"
   ]
  },
  {
   "cell_type": "code",
   "execution_count": 7,
   "metadata": {
    "collapsed": true,
    "slideshow": {
     "slide_type": "subslide"
    }
   },
   "outputs": [],
   "source": [
    "# Take only 10000 out of 60000\n",
    "\n",
    "X_train = X_train[0:10000]\n",
    "X_test = X_test[0:1000]\n",
    "Y_train = Y_train[0:10000]\n",
    "Y_test = Y_test[0:1000]"
   ]
  },
  {
   "cell_type": "markdown",
   "metadata": {
    "slideshow": {
     "slide_type": "slide"
    }
   },
   "source": [
    "# Table of Content\n",
    "- Basic Model\n",
    "- With Cross Entropy\n",
    "- Deeper Model\n",
    "- Deeper Model with ReLU\n",
    "- Adam (Adaptive Learning Rate + Momentum)\n",
    "- Dropout"
   ]
  },
  {
   "cell_type": "markdown",
   "metadata": {
    "slideshow": {
     "slide_type": "slide"
    }
   },
   "source": [
    "# Basic Model"
   ]
  },
  {
   "cell_type": "code",
   "execution_count": 8,
   "metadata": {
    "collapsed": false
   },
   "outputs": [],
   "source": [
    "model = Sequential()\n",
    "\n",
    "# input layer\n",
    "model.add(Dense(input_dim=28*28, output_dim=500, activation='sigmoid'))\n",
    "\n",
    "# hidden layer\n",
    "model.add(Dense(output_dim=500, activation='sigmoid'))\n",
    "\n",
    "# output layer\n",
    "model.add(Dense(output_dim=10, activation='softmax'))"
   ]
  },
  {
   "cell_type": "code",
   "execution_count": 9,
   "metadata": {
    "collapsed": false,
    "slideshow": {
     "slide_type": "subslide"
    }
   },
   "outputs": [
    {
     "data": {
      "image/svg+xml": [
       "<svg height=\"296pt\" viewBox=\"0.00 0.00 225.51 296.00\" width=\"226pt\" xmlns=\"http://www.w3.org/2000/svg\" xmlns:xlink=\"http://www.w3.org/1999/xlink\">\n",
       "<g class=\"graph\" id=\"graph0\" transform=\"scale(1 1) rotate(0) translate(4 292)\">\n",
       "<title>G</title>\n",
       "<polygon fill=\"white\" points=\"-4,4 -4,-292 221.511,-292 221.511,4 -4,4\" stroke=\"none\"/>\n",
       "<!-- 4812188696 -->\n",
       "<g class=\"node\" id=\"node1\"><title>4812188696</title>\n",
       "<polygon fill=\"none\" points=\"0,-243.5 0,-287.5 217.511,-287.5 217.511,-243.5 0,-243.5\" stroke=\"black\"/>\n",
       "<text font-family=\"Times,serif\" font-size=\"14.00\" text-anchor=\"middle\" x=\"39.0967\" y=\"-261.3\">InputLayer</text>\n",
       "<polyline fill=\"none\" points=\"78.1934,-243.5 78.1934,-287.5 \" stroke=\"black\"/>\n",
       "<text font-family=\"Times,serif\" font-size=\"14.00\" text-anchor=\"middle\" x=\"106.028\" y=\"-272.3\">input:</text>\n",
       "<polyline fill=\"none\" points=\"78.1934,-265.5 133.862,-265.5 \" stroke=\"black\"/>\n",
       "<text font-family=\"Times,serif\" font-size=\"14.00\" text-anchor=\"middle\" x=\"106.028\" y=\"-250.3\">output:</text>\n",
       "<polyline fill=\"none\" points=\"133.862,-243.5 133.862,-287.5 \" stroke=\"black\"/>\n",
       "<text font-family=\"Times,serif\" font-size=\"14.00\" text-anchor=\"middle\" x=\"175.687\" y=\"-272.3\">(None, 784)</text>\n",
       "<polyline fill=\"none\" points=\"133.862,-265.5 217.511,-265.5 \" stroke=\"black\"/>\n",
       "<text font-family=\"Times,serif\" font-size=\"14.00\" text-anchor=\"middle\" x=\"175.687\" y=\"-250.3\">(None, 784)</text>\n",
       "</g>\n",
       "<!-- 4812463296 -->\n",
       "<g class=\"node\" id=\"node2\"><title>4812463296</title>\n",
       "<polygon fill=\"none\" points=\"13.6035,-162.5 13.6035,-206.5 203.907,-206.5 203.907,-162.5 13.6035,-162.5\" stroke=\"black\"/>\n",
       "<text font-family=\"Times,serif\" font-size=\"14.00\" text-anchor=\"middle\" x=\"39.0967\" y=\"-180.3\">Dense</text>\n",
       "<polyline fill=\"none\" points=\"64.5898,-162.5 64.5898,-206.5 \" stroke=\"black\"/>\n",
       "<text font-family=\"Times,serif\" font-size=\"14.00\" text-anchor=\"middle\" x=\"92.4243\" y=\"-191.3\">input:</text>\n",
       "<polyline fill=\"none\" points=\"64.5898,-184.5 120.259,-184.5 \" stroke=\"black\"/>\n",
       "<text font-family=\"Times,serif\" font-size=\"14.00\" text-anchor=\"middle\" x=\"92.4243\" y=\"-169.3\">output:</text>\n",
       "<polyline fill=\"none\" points=\"120.259,-162.5 120.259,-206.5 \" stroke=\"black\"/>\n",
       "<text font-family=\"Times,serif\" font-size=\"14.00\" text-anchor=\"middle\" x=\"162.083\" y=\"-191.3\">(None, 784)</text>\n",
       "<polyline fill=\"none\" points=\"120.259,-184.5 203.907,-184.5 \" stroke=\"black\"/>\n",
       "<text font-family=\"Times,serif\" font-size=\"14.00\" text-anchor=\"middle\" x=\"162.083\" y=\"-169.3\">(None, 500)</text>\n",
       "</g>\n",
       "<!-- 4812188696&#45;&gt;4812463296 -->\n",
       "<g class=\"edge\" id=\"edge1\"><title>4812188696-&gt;4812463296</title>\n",
       "<path d=\"M108.755,-243.329C108.755,-235.183 108.755,-225.699 108.755,-216.797\" fill=\"none\" stroke=\"black\"/>\n",
       "<polygon fill=\"black\" points=\"112.255,-216.729 108.755,-206.729 105.255,-216.729 112.255,-216.729\" stroke=\"black\"/>\n",
       "</g>\n",
       "<!-- 4811664632 -->\n",
       "<g class=\"node\" id=\"node3\"><title>4811664632</title>\n",
       "<polygon fill=\"none\" points=\"13.6035,-81.5 13.6035,-125.5 203.907,-125.5 203.907,-81.5 13.6035,-81.5\" stroke=\"black\"/>\n",
       "<text font-family=\"Times,serif\" font-size=\"14.00\" text-anchor=\"middle\" x=\"39.0967\" y=\"-99.3\">Dense</text>\n",
       "<polyline fill=\"none\" points=\"64.5898,-81.5 64.5898,-125.5 \" stroke=\"black\"/>\n",
       "<text font-family=\"Times,serif\" font-size=\"14.00\" text-anchor=\"middle\" x=\"92.4243\" y=\"-110.3\">input:</text>\n",
       "<polyline fill=\"none\" points=\"64.5898,-103.5 120.259,-103.5 \" stroke=\"black\"/>\n",
       "<text font-family=\"Times,serif\" font-size=\"14.00\" text-anchor=\"middle\" x=\"92.4243\" y=\"-88.3\">output:</text>\n",
       "<polyline fill=\"none\" points=\"120.259,-81.5 120.259,-125.5 \" stroke=\"black\"/>\n",
       "<text font-family=\"Times,serif\" font-size=\"14.00\" text-anchor=\"middle\" x=\"162.083\" y=\"-110.3\">(None, 500)</text>\n",
       "<polyline fill=\"none\" points=\"120.259,-103.5 203.907,-103.5 \" stroke=\"black\"/>\n",
       "<text font-family=\"Times,serif\" font-size=\"14.00\" text-anchor=\"middle\" x=\"162.083\" y=\"-88.3\">(None, 500)</text>\n",
       "</g>\n",
       "<!-- 4812463296&#45;&gt;4811664632 -->\n",
       "<g class=\"edge\" id=\"edge2\"><title>4812463296-&gt;4811664632</title>\n",
       "<path d=\"M108.755,-162.329C108.755,-154.183 108.755,-144.699 108.755,-135.797\" fill=\"none\" stroke=\"black\"/>\n",
       "<polygon fill=\"black\" points=\"112.255,-135.729 108.755,-125.729 105.255,-135.729 112.255,-135.729\" stroke=\"black\"/>\n",
       "</g>\n",
       "<!-- 4812700976 -->\n",
       "<g class=\"node\" id=\"node4\"><title>4812700976</title>\n",
       "<polygon fill=\"none\" points=\"13.6035,-0.5 13.6035,-44.5 203.907,-44.5 203.907,-0.5 13.6035,-0.5\" stroke=\"black\"/>\n",
       "<text font-family=\"Times,serif\" font-size=\"14.00\" text-anchor=\"middle\" x=\"39.0967\" y=\"-18.3\">Dense</text>\n",
       "<polyline fill=\"none\" points=\"64.5898,-0.5 64.5898,-44.5 \" stroke=\"black\"/>\n",
       "<text font-family=\"Times,serif\" font-size=\"14.00\" text-anchor=\"middle\" x=\"92.4243\" y=\"-29.3\">input:</text>\n",
       "<polyline fill=\"none\" points=\"64.5898,-22.5 120.259,-22.5 \" stroke=\"black\"/>\n",
       "<text font-family=\"Times,serif\" font-size=\"14.00\" text-anchor=\"middle\" x=\"92.4243\" y=\"-7.3\">output:</text>\n",
       "<polyline fill=\"none\" points=\"120.259,-0.5 120.259,-44.5 \" stroke=\"black\"/>\n",
       "<text font-family=\"Times,serif\" font-size=\"14.00\" text-anchor=\"middle\" x=\"162.083\" y=\"-29.3\">(None, 500)</text>\n",
       "<polyline fill=\"none\" points=\"120.259,-22.5 203.907,-22.5 \" stroke=\"black\"/>\n",
       "<text font-family=\"Times,serif\" font-size=\"14.00\" text-anchor=\"middle\" x=\"162.083\" y=\"-7.3\">(None, 10)</text>\n",
       "</g>\n",
       "<!-- 4811664632&#45;&gt;4812700976 -->\n",
       "<g class=\"edge\" id=\"edge3\"><title>4811664632-&gt;4812700976</title>\n",
       "<path d=\"M108.755,-81.3294C108.755,-73.1826 108.755,-63.6991 108.755,-54.7971\" fill=\"none\" stroke=\"black\"/>\n",
       "<polygon fill=\"black\" points=\"112.255,-54.729 108.755,-44.729 105.255,-54.729 112.255,-54.729\" stroke=\"black\"/>\n",
       "</g>\n",
       "</g>\n",
       "</svg>"
      ],
      "text/plain": [
       "<IPython.core.display.SVG object>"
      ]
     },
     "execution_count": 9,
     "metadata": {},
     "output_type": "execute_result"
    }
   ],
   "source": [
    "SVG(model_to_dot(model,\n",
    "                 show_shapes=True,\n",
    "                 show_layer_names=False).create(prog='dot', format='svg'))"
   ]
  },
  {
   "cell_type": "code",
   "execution_count": 10,
   "metadata": {
    "collapsed": false,
    "slideshow": {
     "slide_type": "subslide"
    }
   },
   "outputs": [],
   "source": [
    "model.compile(loss='mse',\n",
    "              optimizer=SGD(lr=0.1),\n",
    "              metrics=['accuracy'])"
   ]
  },
  {
   "cell_type": "code",
   "execution_count": 11,
   "metadata": {
    "collapsed": false,
    "slideshow": {
     "slide_type": "subslide"
    }
   },
   "outputs": [],
   "source": [
    "def train_and_show_result(model):\n",
    "    training_history = model.fit(X_train, Y_train,\n",
    "                                 batch_size=100, nb_epoch=NP_EPOCH,\n",
    "                                 verbose=2)\n",
    "\n",
    "    score = model.evaluate(X_test, Y_test)\n",
    "    print(\"\\n--------------------\\nTotal Testing Loss: \", score[1], \"\\nTesting Accuracy: \", score[1])\n",
    "    return training_history"
   ]
  },
  {
   "cell_type": "code",
   "execution_count": 12,
   "metadata": {
    "collapsed": true,
    "slideshow": {
     "slide_type": "subslide"
    }
   },
   "outputs": [],
   "source": [
    "def plot_training_history(training_history):\n",
    "    f, axarr = plt.subplots(2, sharex=True)\n",
    "    axarr[0].set_xlabel('Epoch')\n",
    "    axarr[0].set_ylabel('Training Accuracy')\n",
    "    axarr[0].plot(list(range(1, NP_EPOCH+1)), training_history.history['acc'])\n",
    "    axarr[1].set_ylabel('Training Error')\n",
    "    axarr[1].plot(list(range(1, NP_EPOCH+1)), training_history.history['loss'])"
   ]
  },
  {
   "cell_type": "code",
   "execution_count": 13,
   "metadata": {
    "collapsed": false,
    "slideshow": {
     "slide_type": "subslide"
    }
   },
   "outputs": [
    {
     "name": "stdout",
     "output_type": "stream",
     "text": [
      "Epoch 1/20\n",
      "1s - loss: 0.0907 - acc: 0.1180\n",
      "Epoch 2/20\n",
      "1s - loss: 0.0899 - acc: 0.1179\n",
      "Epoch 3/20\n",
      "1s - loss: 0.0898 - acc: 0.1275\n",
      "Epoch 4/20\n",
      "1s - loss: 0.0897 - acc: 0.1269\n",
      "Epoch 5/20\n",
      "1s - loss: 0.0897 - acc: 0.1278\n",
      "Epoch 6/20\n",
      "1s - loss: 0.0896 - acc: 0.1421\n",
      "Epoch 7/20\n",
      "1s - loss: 0.0895 - acc: 0.1327\n",
      "Epoch 8/20\n",
      "1s - loss: 0.0894 - acc: 0.1533\n",
      "Epoch 9/20\n",
      "1s - loss: 0.0894 - acc: 0.1604\n",
      "Epoch 10/20\n",
      "1s - loss: 0.0893 - acc: 0.1872\n",
      "Epoch 11/20\n",
      "1s - loss: 0.0892 - acc: 0.1637\n",
      "Epoch 12/20\n",
      "1s - loss: 0.0891 - acc: 0.1959\n",
      "Epoch 13/20\n",
      "1s - loss: 0.0891 - acc: 0.1907\n",
      "Epoch 14/20\n",
      "1s - loss: 0.0890 - acc: 0.1849\n",
      "Epoch 15/20\n",
      "1s - loss: 0.0889 - acc: 0.2406\n",
      "Epoch 16/20\n",
      "1s - loss: 0.0888 - acc: 0.1988\n",
      "Epoch 17/20\n",
      "1s - loss: 0.0887 - acc: 0.2617\n",
      "Epoch 18/20\n",
      "1s - loss: 0.0886 - acc: 0.2173\n",
      "Epoch 19/20\n",
      "1s - loss: 0.0886 - acc: 0.2425\n",
      "Epoch 20/20\n",
      "1s - loss: 0.0885 - acc: 0.2635\n",
      " 928/1000 [==========================>...] - ETA: 0s\n",
      "--------------------\n",
      "Total Testing Loss:  0.198 \n",
      "Testing Accuracy:  0.198\n",
      "CPU times: user 1min 19s, sys: 2.88 s, total: 1min 22s\n",
      "Wall time: 27.9 s\n"
     ]
    }
   ],
   "source": [
    "%%time\n",
    "history = train_and_show_result(model)"
   ]
  },
  {
   "cell_type": "code",
   "execution_count": 14,
   "metadata": {
    "collapsed": false,
    "slideshow": {
     "slide_type": "subslide"
    }
   },
   "outputs": [
    {
     "data": {
      "image/png": "[encoded data removed]",
      "text/plain": [
       "<matplotlib.figure.Figure at 0x11f4ae240>"
      ]
     },
     "metadata": {},
     "output_type": "display_data"
    }
   ],
   "source": [
    "plot_training_history(history)"
   ]
  },
  {
   "cell_type": "markdown",
   "metadata": {
    "slideshow": {
     "slide_type": "slide"
    }
   },
   "source": [
    "# Cross Entropy"
   ]
  },
  {
   "cell_type": "code",
   "execution_count": 15,
   "metadata": {
    "collapsed": false
   },
   "outputs": [],
   "source": [
    "model.compile(loss='categorical_crossentropy',\n",
    "              optimizer=SGD(lr=0.1),\n",
    "              metrics=['accuracy'])"
   ]
  },
  {
   "cell_type": "code",
   "execution_count": 16,
   "metadata": {
    "collapsed": false,
    "slideshow": {
     "slide_type": "subslide"
    }
   },
   "outputs": [
    {
     "name": "stdout",
     "output_type": "stream",
     "text": [
      "Epoch 1/20\n",
      "1s - loss: 2.2509 - acc: 0.1867\n",
      "Epoch 2/20\n",
      "1s - loss: 1.8913 - acc: 0.3678\n",
      "Epoch 3/20\n",
      "1s - loss: 1.3375 - acc: 0.6089\n",
      "Epoch 4/20\n",
      "1s - loss: 0.9668 - acc: 0.7240\n",
      "Epoch 5/20\n",
      "1s - loss: 0.7691 - acc: 0.7845\n",
      "Epoch 6/20\n",
      "1s - loss: 0.6468 - acc: 0.8200\n",
      "Epoch 7/20\n",
      "1s - loss: 0.5700 - acc: 0.8456\n",
      "Epoch 8/20\n",
      "1s - loss: 0.5178 - acc: 0.8573\n",
      "Epoch 9/20\n",
      "1s - loss: 0.4760 - acc: 0.8673\n",
      "Epoch 10/20\n",
      "1s - loss: 0.4443 - acc: 0.8792\n",
      "Epoch 11/20\n",
      "1s - loss: 0.4211 - acc: 0.8820\n",
      "Epoch 12/20\n",
      "1s - loss: 0.4039 - acc: 0.8883\n",
      "Epoch 13/20\n",
      "1s - loss: 0.3875 - acc: 0.8907\n",
      "Epoch 14/20\n",
      "1s - loss: 0.3719 - acc: 0.8973\n",
      "Epoch 15/20\n",
      "1s - loss: 0.3623 - acc: 0.8989\n",
      "Epoch 16/20\n",
      "1s - loss: 0.3522 - acc: 0.9008\n",
      "Epoch 17/20\n",
      "1s - loss: 0.3448 - acc: 0.9046\n",
      "Epoch 18/20\n",
      "1s - loss: 0.3369 - acc: 0.9071\n",
      "Epoch 19/20\n",
      "1s - loss: 0.3309 - acc: 0.9072\n",
      "Epoch 20/20\n",
      "1s - loss: 0.3246 - acc: 0.9116\n",
      "1000/1000 [==============================] - 0s     \n",
      "\n",
      "--------------------\n",
      "Total Testing Loss:  0.886 \n",
      "Testing Accuracy:  0.886\n",
      "CPU times: user 1min 21s, sys: 3.2 s, total: 1min 24s\n",
      "Wall time: 28 s\n"
     ]
    }
   ],
   "source": [
    "%%time\n",
    "history = train_and_show_result(model)"
   ]
  },
  {
   "cell_type": "code",
   "execution_count": 17,
   "metadata": {
    "collapsed": false,
    "slideshow": {
     "slide_type": "subslide"
    }
   },
   "outputs": [
    {
     "data": {
      "image/png": "[encoded data removed]",
      "text/plain": [
       "<matplotlib.figure.Figure at 0x11f4ae2e8>"
      ]
     },
     "metadata": {},
     "output_type": "display_data"
    }
   ],
   "source": [
    "plot_training_history(history)"
   ]
  },
  {
   "cell_type": "markdown",
   "metadata": {
    "slideshow": {
     "slide_type": "slide"
    }
   },
   "source": [
    "# Deeper"
   ]
  },
  {
   "cell_type": "code",
   "execution_count": 18,
   "metadata": {
    "collapsed": false
   },
   "outputs": [],
   "source": [
    "model = Sequential()\n",
    "\n",
    "model.add(Dense(input_dim=28*28, output_dim=500, activation='sigmoid'))\n",
    "\n",
    "model.add(Dense(output_dim=500, activation='sigmoid'))\n",
    "model.add(Dense(output_dim=500, activation='sigmoid'))\n",
    "model.add(Dense(output_dim=500, activation='sigmoid'))\n",
    "model.add(Dense(output_dim=500, activation='sigmoid'))\n",
    "model.add(Dense(output_dim=500, activation='sigmoid'))\n",
    "model.add(Dense(output_dim=500, activation='sigmoid'))\n",
    "model.add(Dense(output_dim=500, activation='sigmoid'))\n",
    "model.add(Dense(output_dim=500, activation='sigmoid'))\n",
    "\n",
    "model.add(Dense(output_dim=10, activation='softmax'))"
   ]
  },
  {
   "cell_type": "code",
   "execution_count": 19,
   "metadata": {
    "collapsed": true,
    "slideshow": {
     "slide_type": "subslide"
    }
   },
   "outputs": [],
   "source": [
    "model.compile(loss='categorical_crossentropy',\n",
    "              optimizer=SGD(lr=0.1),\n",
    "              metrics=['accuracy'])"
   ]
  },
  {
   "cell_type": "code",
   "execution_count": 20,
   "metadata": {
    "collapsed": false,
    "slideshow": {
     "slide_type": "subslide"
    }
   },
   "outputs": [
    {
     "name": "stdout",
     "output_type": "stream",
     "text": [
      "Epoch 1/20\n",
      "5s - loss: 2.4037 - acc: 0.0983\n",
      "Epoch 2/20\n",
      "5s - loss: 2.3664 - acc: 0.1034\n",
      "Epoch 3/20\n",
      "5s - loss: 2.3439 - acc: 0.1017\n",
      "Epoch 4/20\n",
      "5s - loss: 2.3392 - acc: 0.0986\n",
      "Epoch 5/20\n",
      "5s - loss: 2.3285 - acc: 0.1048\n",
      "Epoch 6/20\n",
      "5s - loss: 2.3243 - acc: 0.1015\n",
      "Epoch 7/20\n",
      "5s - loss: 2.3224 - acc: 0.1011\n",
      "Epoch 8/20\n",
      "5s - loss: 2.3174 - acc: 0.1084\n",
      "Epoch 9/20\n",
      "5s - loss: 2.3163 - acc: 0.1055\n",
      "Epoch 10/20\n",
      "4s - loss: 2.3148 - acc: 0.1051\n",
      "Epoch 11/20\n",
      "5s - loss: 2.3132 - acc: 0.1014\n",
      "Epoch 12/20\n",
      "5s - loss: 2.3134 - acc: 0.0983\n",
      "Epoch 13/20\n",
      "5s - loss: 2.3105 - acc: 0.1075\n",
      "Epoch 14/20\n",
      "5s - loss: 2.3098 - acc: 0.1040\n",
      "Epoch 15/20\n",
      "5s - loss: 2.3099 - acc: 0.1001\n",
      "Epoch 16/20\n",
      "4s - loss: 2.3070 - acc: 0.1096\n",
      "Epoch 17/20\n",
      "5s - loss: 2.3083 - acc: 0.1063\n",
      "Epoch 18/20\n",
      "5s - loss: 2.3079 - acc: 0.1075\n",
      "Epoch 19/20\n",
      "5s - loss: 2.3074 - acc: 0.1048\n",
      "Epoch 20/20\n",
      "6s - loss: 2.3063 - acc: 0.1042\n",
      "1000/1000 [==============================] - 0s     \n",
      "\n",
      "--------------------\n",
      "Total Testing Loss:  0.11 \n",
      "Testing Accuracy:  0.11\n",
      "CPU times: user 5min 26s, sys: 17.4 s, total: 5min 44s\n",
      "Wall time: 1min 43s\n"
     ]
    }
   ],
   "source": [
    "%%time\n",
    "history = train_and_show_result(model)"
   ]
  },
  {
   "cell_type": "code",
   "execution_count": 21,
   "metadata": {
    "collapsed": false,
    "slideshow": {
     "slide_type": "subslide"
    }
   },
   "outputs": [
    {
     "data": {
      "image/png": "[encoded data removed]",
      "text/plain": [
       "<matplotlib.figure.Figure at 0x11ec19ba8>"
      ]
     },
     "metadata": {},
     "output_type": "display_data"
    }
   ],
   "source": [
    "plot_training_history(history)"
   ]
  },
  {
   "cell_type": "markdown",
   "metadata": {
    "slideshow": {
     "slide_type": "slide"
    }
   },
   "source": [
    "# ReLU"
   ]
  },
  {
   "cell_type": "code",
   "execution_count": 22,
   "metadata": {
    "collapsed": true
   },
   "outputs": [],
   "source": [
    "model = Sequential()\n",
    "\n",
    "model.add(Dense(input_dim=28*28, output_dim=500, activation='relu'))\n",
    "\n",
    "model.add(Dense(output_dim=500, activation='relu'))\n",
    "model.add(Dense(output_dim=500, activation='relu'))\n",
    "model.add(Dense(output_dim=500, activation='relu'))\n",
    "model.add(Dense(output_dim=500, activation='relu'))\n",
    "model.add(Dense(output_dim=500, activation='relu'))\n",
    "model.add(Dense(output_dim=500, activation='relu'))\n",
    "model.add(Dense(output_dim=500, activation='relu'))\n",
    "model.add(Dense(output_dim=500, activation='relu'))\n",
    "\n",
    "model.add(Dense(output_dim=10, activation='softmax'))"
   ]
  },
  {
   "cell_type": "code",
   "execution_count": 23,
   "metadata": {
    "collapsed": false,
    "slideshow": {
     "slide_type": "subslide"
    }
   },
   "outputs": [],
   "source": [
    "model.compile(loss='categorical_crossentropy',\n",
    "              optimizer=SGD(lr=0.1),\n",
    "              metrics=['accuracy'])"
   ]
  },
  {
   "cell_type": "code",
   "execution_count": 24,
   "metadata": {
    "collapsed": false,
    "slideshow": {
     "slide_type": "subslide"
    }
   },
   "outputs": [
    {
     "name": "stdout",
     "output_type": "stream",
     "text": [
      "Epoch 1/20\n",
      "4s - loss: 1.8906 - acc: 0.3519\n",
      "Epoch 2/20\n",
      "5s - loss: 0.7199 - acc: 0.7616\n",
      "Epoch 3/20\n",
      "6s - loss: 0.3613 - acc: 0.8917\n",
      "Epoch 4/20\n",
      "6s - loss: 0.2327 - acc: 0.9319\n",
      "Epoch 5/20\n",
      "6s - loss: 0.1754 - acc: 0.9493\n",
      "Epoch 6/20\n",
      "5s - loss: 0.1089 - acc: 0.9683\n",
      "Epoch 7/20\n",
      "5s - loss: 0.0762 - acc: 0.9771\n",
      "Epoch 8/20\n",
      "5s - loss: 0.3100 - acc: 0.9236\n",
      "Epoch 9/20\n",
      "5s - loss: 0.2641 - acc: 0.9255\n",
      "Epoch 10/20\n",
      "5s - loss: 0.1295 - acc: 0.9685\n",
      "Epoch 11/20\n",
      "5s - loss: 0.1079 - acc: 0.9746\n",
      "Epoch 12/20\n",
      "5s - loss: 0.0841 - acc: 0.9759\n",
      "Epoch 13/20\n",
      "5s - loss: 0.0195 - acc: 0.9944\n",
      "Epoch 14/20\n",
      "5s - loss: 0.0089 - acc: 0.9979\n",
      "Epoch 15/20\n",
      "5s - loss: 0.0061 - acc: 0.9987\n",
      "Epoch 16/20\n",
      "5s - loss: 0.0060 - acc: 0.9988\n",
      "Epoch 17/20\n",
      "5s - loss: 0.0022 - acc: 0.9997\n",
      "Epoch 18/20\n",
      "5s - loss: 0.0014 - acc: 0.9997\n",
      "Epoch 19/20\n",
      "4s - loss: 6.4072e-04 - acc: 0.9999\n",
      "Epoch 20/20\n",
      "4s - loss: 3.8584e-04 - acc: 1.0000\n",
      " 992/1000 [============================>.] - ETA: 0s\n",
      "--------------------\n",
      "Total Testing Loss:  0.952 \n",
      "Testing Accuracy:  0.952\n",
      "CPU times: user 5min 26s, sys: 18.5 s, total: 5min 45s\n",
      "Wall time: 1min 52s\n"
     ]
    }
   ],
   "source": [
    "%%time\n",
    "history = train_and_show_result(model)"
   ]
  },
  {
   "cell_type": "code",
   "execution_count": 25,
   "metadata": {
    "collapsed": false,
    "slideshow": {
     "slide_type": "subslide"
    }
   },
   "outputs": [
    {
     "data": {
      "image/png": "[encoded data removed]",
      "text/plain": [
       "<matplotlib.figure.Figure at 0x134ae5780>"
      ]
     },
     "metadata": {},
     "output_type": "display_data"
    }
   ],
   "source": [
    "plot_training_history(history)"
   ]
  },
  {
   "cell_type": "markdown",
   "metadata": {
    "slideshow": {
     "slide_type": "slide"
    }
   },
   "source": [
    "# Adam (Adaptive Learning Rate + Momentum)"
   ]
  },
  {
   "cell_type": "code",
   "execution_count": 26,
   "metadata": {
    "collapsed": false,
    "slideshow": {
     "slide_type": "-"
    }
   },
   "outputs": [],
   "source": [
    "model.compile(loss='categorical_crossentropy',\n",
    "              optimizer=Adam(),\n",
    "              metrics=['accuracy'])"
   ]
  },
  {
   "cell_type": "code",
   "execution_count": 27,
   "metadata": {
    "collapsed": false,
    "slideshow": {
     "slide_type": "subslide"
    }
   },
   "outputs": [
    {
     "name": "stdout",
     "output_type": "stream",
     "text": [
      "Epoch 1/20\n",
      "7s - loss: 0.1571 - acc: 0.9591\n",
      "Epoch 2/20\n",
      "6s - loss: 0.1044 - acc: 0.9717\n",
      "Epoch 3/20\n",
      "6s - loss: 0.0796 - acc: 0.9790\n",
      "Epoch 4/20\n",
      "6s - loss: 0.0800 - acc: 0.9787\n",
      "Epoch 5/20\n",
      "6s - loss: 0.0614 - acc: 0.9848\n",
      "Epoch 6/20\n",
      "6s - loss: 0.0588 - acc: 0.9857\n",
      "Epoch 7/20\n",
      "6s - loss: 0.0681 - acc: 0.9833\n",
      "Epoch 8/20\n",
      "6s - loss: 0.0588 - acc: 0.9854\n",
      "Epoch 9/20\n",
      "6s - loss: 0.0611 - acc: 0.9856\n",
      "Epoch 10/20\n",
      "6s - loss: 0.0458 - acc: 0.9903\n",
      "Epoch 11/20\n",
      "6s - loss: 0.0540 - acc: 0.9869\n",
      "Epoch 12/20\n",
      "6s - loss: 0.0485 - acc: 0.9905\n",
      "Epoch 13/20\n",
      "6s - loss: 0.0305 - acc: 0.9938\n",
      "Epoch 14/20\n",
      "6s - loss: 0.0366 - acc: 0.9900\n",
      "Epoch 15/20\n",
      "8s - loss: 0.0323 - acc: 0.9918\n",
      "Epoch 16/20\n",
      "6s - loss: 0.0374 - acc: 0.9923\n",
      "Epoch 17/20\n",
      "6s - loss: 0.0265 - acc: 0.9940\n",
      "Epoch 18/20\n",
      "6s - loss: 0.0441 - acc: 0.9906\n",
      "Epoch 19/20\n",
      "7s - loss: 0.0449 - acc: 0.9912\n",
      "Epoch 20/20\n",
      "7s - loss: 0.0520 - acc: 0.9900\n",
      "1000/1000 [==============================] - 0s     \n",
      "\n",
      "--------------------\n",
      "Total Testing Loss:  0.955 \n",
      "Testing Accuracy:  0.955\n",
      "CPU times: user 7min 7s, sys: 46.4 s, total: 7min 53s\n",
      "Wall time: 2min 20s\n"
     ]
    }
   ],
   "source": [
    "%%time\n",
    "history = train_and_show_result(model)"
   ]
  },
  {
   "cell_type": "code",
   "execution_count": 28,
   "metadata": {
    "collapsed": false,
    "slideshow": {
     "slide_type": "subslide"
    }
   },
   "outputs": [
    {
     "data": {
      "image/png": "[encoded data removed]",
      "text/plain": [
       "<matplotlib.figure.Figure at 0x133c73160>"
      ]
     },
     "metadata": {},
     "output_type": "display_data"
    }
   ],
   "source": [
    "plot_training_history(history)"
   ]
  },
  {
   "cell_type": "markdown",
   "metadata": {
    "slideshow": {
     "slide_type": "slide"
    }
   },
   "source": [
    "# Dropout"
   ]
  },
  {
   "cell_type": "code",
   "execution_count": 29,
   "metadata": {
    "collapsed": true,
    "slideshow": {
     "slide_type": "-"
    }
   },
   "outputs": [],
   "source": [
    "model = Sequential()\n",
    "\n",
    "model.add(Dense(input_dim=28*28, output_dim=500, activation='relu'))\n",
    "\n",
    "model.add(Dropout(0.8))\n",
    "model.add(Dense(output_dim=500, activation='relu'))\n",
    "model.add(Dropout(0.8))\n",
    "model.add(Dense(output_dim=500, activation='relu'))\n",
    "model.add(Dropout(0.8))\n",
    "model.add(Dense(output_dim=500, activation='relu'))\n",
    "model.add(Dropout(0.8))\n",
    "model.add(Dense(output_dim=500, activation='relu'))\n",
    "model.add(Dropout(0.8))\n",
    "model.add(Dense(output_dim=500, activation='relu'))\n",
    "model.add(Dropout(0.8))\n",
    "model.add(Dense(output_dim=500, activation='relu'))\n",
    "model.add(Dropout(0.8))\n",
    "model.add(Dense(output_dim=500, activation='relu'))\n",
    "model.add(Dropout(0.8))\n",
    "model.add(Dense(output_dim=500, activation='relu'))\n",
    "\n",
    "model.add(Dense(output_dim=10, activation='softmax'))"
   ]
  },
  {
   "cell_type": "code",
   "execution_count": 30,
   "metadata": {
    "collapsed": true,
    "slideshow": {
     "slide_type": "subslide"
    }
   },
   "outputs": [],
   "source": [
    "model.compile(loss='categorical_crossentropy',\n",
    "              optimizer=Adam(),\n",
    "              metrics=['accuracy'])"
   ]
  },
  {
   "cell_type": "code",
   "execution_count": 31,
   "metadata": {
    "collapsed": false,
    "slideshow": {
     "slide_type": "subslide"
    }
   },
   "outputs": [
    {
     "name": "stdout",
     "output_type": "stream",
     "text": [
      "Epoch 1/20\n",
      "8s - loss: 4.6935 - acc: 0.1043\n",
      "Epoch 2/20\n",
      "7s - loss: 2.3158 - acc: 0.1126\n",
      "Epoch 3/20\n",
      "7s - loss: 2.1989 - acc: 0.1764\n",
      "Epoch 4/20\n",
      "7s - loss: 2.0891 - acc: 0.2305\n",
      "Epoch 5/20\n",
      "7s - loss: 2.0010 - acc: 0.2434\n",
      "Epoch 6/20\n",
      "7s - loss: 1.9464 - acc: 0.2467\n",
      "Epoch 7/20\n",
      "7s - loss: 1.9142 - acc: 0.2520\n",
      "Epoch 8/20\n",
      "7s - loss: 1.8728 - acc: 0.2585\n",
      "Epoch 9/20\n",
      "7s - loss: 1.8487 - acc: 0.2661\n",
      "Epoch 10/20\n",
      "7s - loss: 1.8289 - acc: 0.2798\n",
      "Epoch 11/20\n",
      "7s - loss: 1.8228 - acc: 0.2717\n",
      "Epoch 12/20\n",
      "7s - loss: 1.7875 - acc: 0.2851\n",
      "Epoch 13/20\n",
      "7s - loss: 1.7819 - acc: 0.2755\n",
      "Epoch 14/20\n",
      "7s - loss: 1.7769 - acc: 0.2778\n",
      "Epoch 15/20\n",
      "7s - loss: 1.7781 - acc: 0.2775\n",
      "Epoch 16/20\n",
      "7s - loss: 1.7565 - acc: 0.2821\n",
      "Epoch 17/20\n",
      "7s - loss: 1.7506 - acc: 0.2902\n",
      "Epoch 18/20\n",
      "7s - loss: 1.7331 - acc: 0.2994\n",
      "Epoch 19/20\n",
      "7s - loss: 1.7222 - acc: 0.2955\n",
      "Epoch 20/20\n",
      "7s - loss: 1.7148 - acc: 0.3085\n",
      " 992/1000 [============================>.] - ETA: 0s\n",
      "--------------------\n",
      "Total Testing Loss:  0.126 \n",
      "Testing Accuracy:  0.126\n",
      "CPU times: user 7min 47s, sys: 59.6 s, total: 8min 47s\n",
      "Wall time: 2min 39s\n"
     ]
    }
   ],
   "source": [
    "%%time\n",
    "history = train_and_show_result(model)"
   ]
  },
  {
   "cell_type": "code",
   "execution_count": 32,
   "metadata": {
    "collapsed": false,
    "slideshow": {
     "slide_type": "subslide"
    }
   },
   "outputs": [
    {
     "data": {
      "image/png": "[encoded data removed]",
      "text/plain": [
       "<matplotlib.figure.Figure at 0x1386315c0>"
      ]
     },
     "metadata": {},
     "output_type": "display_data"
    }
   ],
   "source": [
    "plot_training_history(history)"
   ]
  }
 ],
 "metadata": {
  "celltoolbar": "Slideshow",
  "kernelspec": {
   "display_name": "Python 3",
   "language": "python",
   "name": "python3"
  },
  "language_info": {
   "codemirror_mode": {
    "name": "ipython",
    "version": 3
   },
   "file_extension": ".py",
   "mimetype": "text/x-python",
   "name": "python",
   "nbconvert_exporter": "python",
   "pygments_lexer": "ipython3",
   "version": "3.5.2"
  },
  "livereveal": {
   "scroll": true
  }
 },
 "nbformat": 4,
 "nbformat_minor": 1
}
