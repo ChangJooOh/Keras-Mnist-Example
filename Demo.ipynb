{
 "cells": [
  {
   "cell_type": "code",
   "execution_count": 1,
   "metadata": {
    "collapsed": false,
    "slideshow": {
     "slide_type": "slide"
    }
   },
   "outputs": [],
   "source": [
    "%matplotlib inline\n",
    "\n",
    "import math\n",
    "import random\n",
    "\n",
    "import numpy as np\n",
    "import matplotlib.pyplot as plt\n",
    "from IPython.display import SVG"
   ]
  },
  {
   "cell_type": "code",
   "execution_count": 2,
   "metadata": {
    "collapsed": false
   },
   "outputs": [
    {
     "name": "stderr",
     "output_type": "stream",
     "text": [
      "Using TensorFlow backend.\n"
     ]
    }
   ],
   "source": [
    "from keras.models import Sequential\n",
    "from keras.layers.core import Dense, Dropout\n",
    "from keras.optimizers import SGD, Adam\n",
    "from keras.utils import np_utils\n",
    "from keras.utils.visualize_util import model_to_dot\n",
    "from keras.datasets import mnist"
   ]
  },
  {
   "cell_type": "code",
   "execution_count": 3,
   "metadata": {
    "collapsed": true
   },
   "outputs": [],
   "source": [
    "# Number of epoch\n",
    "NP_EPOCH = 20"
   ]
  },
  {
   "cell_type": "code",
   "execution_count": 4,
   "metadata": {
    "collapsed": false,
    "slideshow": {
     "slide_type": "slide"
    }
   },
   "outputs": [
    {
     "name": "stdout",
     "output_type": "stream",
     "text": [
      "(60000, 28, 28)\n",
      "(10000, 28, 28)\n"
     ]
    }
   ],
   "source": [
    "# Load data from keras\n",
    "(X_train, y_train), (X_test, y_test) = mnist.load_data()\n",
    "\n",
    "print(X_train.shape)\n",
    "print(X_test.shape)"
   ]
  },
  {
   "cell_type": "code",
   "execution_count": 5,
   "metadata": {
    "collapsed": false,
    "slideshow": {
     "slide_type": "subslide"
    }
   },
   "outputs": [
    {
     "data": {
      "image/png": "[encoded data removed]",
      "text/plain": [
       "<matplotlib.figure.Figure at 0x11c600e48>"
      ]
     },
     "metadata": {},
     "output_type": "display_data"
    }
   ],
   "source": [
    "for i in range(9):\n",
    "    plt.subplot(3,3,i+1)\n",
    "    plt.imshow(X_train[i], cmap='gray', interpolation='none')\n",
    "    plt.title(\"Class {}\".format(y_train[i]))\n",
    "plt.tight_layout()"
   ]
  },
  {
   "cell_type": "code",
   "execution_count": 6,
   "metadata": {
    "collapsed": false,
    "slideshow": {
     "slide_type": "slide"
    }
   },
   "outputs": [
    {
     "name": "stdout",
     "output_type": "stream",
     "text": [
      "[ 0.  0.  0.  0.  0.  1.  0.  0.  0.  0.]\n"
     ]
    }
   ],
   "source": [
    "X_train = X_train.reshape(60000, 784)\n",
    "X_test = X_test.reshape(10000, 784)\n",
    "\n",
    "X_train = X_train.astype('float32')\n",
    "X_test = X_test.astype('float32')\n",
    "\n",
    "X_train /= 255\n",
    "X_test /= 255\n",
    "\n",
    "Y_train = np_utils.to_categorical(y_train, 10)\n",
    "Y_test = np_utils.to_categorical(y_test, 10)\n",
    "\n",
    "print(Y_train[0])"
   ]
  },
  {
   "cell_type": "code",
   "execution_count": 7,
   "metadata": {
    "collapsed": true,
    "slideshow": {
     "slide_type": "subslide"
    }
   },
   "outputs": [],
   "source": [
    "# Take only 10000 out of 60000\n",
    "\n",
    "X_train = X_train[0:10000]\n",
    "X_test = X_test[0:1000]\n",
    "Y_train = Y_train[0:10000]\n",
    "Y_test = Y_test[0:1000]"
   ]
  },
  {
   "cell_type": "markdown",
   "metadata": {
    "slideshow": {
     "slide_type": "slide"
    }
   },
   "source": [
    "# Table of Content\n",
    "- Basic Model\n",
    "- With Cross Entropy\n",
    "- Deeper Model\n",
    "- Deeper Model with ReLU\n",
    "- Adam (Adaptive Learning Rate + Momentum)\n",
    "- Dropout"
   ]
  },
  {
   "cell_type": "markdown",
   "metadata": {
    "slideshow": {
     "slide_type": "slide"
    }
   },
   "source": [
    "# Basic Model"
   ]
  },
  {
   "cell_type": "code",
   "execution_count": 8,
   "metadata": {
    "collapsed": false
   },
   "outputs": [],
   "source": [
    "model = Sequential()\n",
    "\n",
    "# input layer\n",
    "model.add(Dense(input_dim=28*28, output_dim=500, activation='sigmoid'))\n",
    "\n",
    "# hidden layer\n",
    "model.add(Dense(output_dim=500, activation='sigmoid'))\n",
    "\n",
    "# output layer\n",
    "model.add(Dense(output_dim=10, activation='softmax'))"
   ]
  },
  {
   "cell_type": "code",
   "execution_count": 9,
   "metadata": {
    "collapsed": false,
    "slideshow": {
     "slide_type": "subslide"
    }
   },
   "outputs": [
    {
     "data": {
      "image/svg+xml": [
       "<svg height=\"296pt\" viewBox=\"0.00 0.00 225.51 296.00\" width=\"226pt\" xmlns=\"http://www.w3.org/2000/svg\" xmlns:xlink=\"http://www.w3.org/1999/xlink\">\n",
       "<g class=\"graph\" id=\"graph0\" transform=\"scale(1 1) rotate(0) translate(4 292)\">\n",
       "<title>G</title>\n",
       "<polygon fill=\"#ffffff\" points=\"-4,4 -4,-292 221.5107,-292 221.5107,4 -4,4\" stroke=\"transparent\"/>\n",
       "<!-- 4901034864 -->\n",
       "<g class=\"node\" id=\"node1\">\n",
       "<title>4901034864</title>\n",
       "<polygon fill=\"none\" points=\"0,-243.5 0,-287.5 217.5107,-287.5 217.5107,-243.5 0,-243.5\" stroke=\"#000000\"/>\n",
       "<text fill=\"#000000\" font-family=\"Times,serif\" font-size=\"14.00\" text-anchor=\"middle\" x=\"39.0967\" y=\"-261.3\">InputLayer</text>\n",
       "<polyline fill=\"none\" points=\"78.1934,-243.5 78.1934,-287.5 \" stroke=\"#000000\"/>\n",
       "<text fill=\"#000000\" font-family=\"Times,serif\" font-size=\"14.00\" text-anchor=\"middle\" x=\"106.0278\" y=\"-272.3\">input:</text>\n",
       "<polyline fill=\"none\" points=\"78.1934,-265.5 133.8623,-265.5 \" stroke=\"#000000\"/>\n",
       "<text fill=\"#000000\" font-family=\"Times,serif\" font-size=\"14.00\" text-anchor=\"middle\" x=\"106.0278\" y=\"-250.3\">output:</text>\n",
       "<polyline fill=\"none\" points=\"133.8623,-243.5 133.8623,-287.5 \" stroke=\"#000000\"/>\n",
       "<text fill=\"#000000\" font-family=\"Times,serif\" font-size=\"14.00\" text-anchor=\"middle\" x=\"175.6865\" y=\"-272.3\">(None, 784)</text>\n",
       "<polyline fill=\"none\" points=\"133.8623,-265.5 217.5107,-265.5 \" stroke=\"#000000\"/>\n",
       "<text fill=\"#000000\" font-family=\"Times,serif\" font-size=\"14.00\" text-anchor=\"middle\" x=\"175.6865\" y=\"-250.3\">(None, 784)</text>\n",
       "</g>\n",
       "<!-- 4901035144 -->\n",
       "<g class=\"node\" id=\"node2\">\n",
       "<title>4901035144</title>\n",
       "<polygon fill=\"none\" points=\"13.6035,-162.5 13.6035,-206.5 203.9072,-206.5 203.9072,-162.5 13.6035,-162.5\" stroke=\"#000000\"/>\n",
       "<text fill=\"#000000\" font-family=\"Times,serif\" font-size=\"14.00\" text-anchor=\"middle\" x=\"39.0967\" y=\"-180.3\">Dense</text>\n",
       "<polyline fill=\"none\" points=\"64.5898,-162.5 64.5898,-206.5 \" stroke=\"#000000\"/>\n",
       "<text fill=\"#000000\" font-family=\"Times,serif\" font-size=\"14.00\" text-anchor=\"middle\" x=\"92.4243\" y=\"-191.3\">input:</text>\n",
       "<polyline fill=\"none\" points=\"64.5898,-184.5 120.2588,-184.5 \" stroke=\"#000000\"/>\n",
       "<text fill=\"#000000\" font-family=\"Times,serif\" font-size=\"14.00\" text-anchor=\"middle\" x=\"92.4243\" y=\"-169.3\">output:</text>\n",
       "<polyline fill=\"none\" points=\"120.2588,-162.5 120.2588,-206.5 \" stroke=\"#000000\"/>\n",
       "<text fill=\"#000000\" font-family=\"Times,serif\" font-size=\"14.00\" text-anchor=\"middle\" x=\"162.083\" y=\"-191.3\">(None, 784)</text>\n",
       "<polyline fill=\"none\" points=\"120.2588,-184.5 203.9072,-184.5 \" stroke=\"#000000\"/>\n",
       "<text fill=\"#000000\" font-family=\"Times,serif\" font-size=\"14.00\" text-anchor=\"middle\" x=\"162.083\" y=\"-169.3\">(None, 500)</text>\n",
       "</g>\n",
       "<!-- 4901034864&#45;&gt;4901035144 -->\n",
       "<g class=\"edge\" id=\"edge1\">\n",
       "<title>4901034864-&gt;4901035144</title>\n",
       "<path d=\"M108.7554,-243.3664C108.7554,-235.1516 108.7554,-225.6579 108.7554,-216.7252\" fill=\"none\" stroke=\"#000000\"/>\n",
       "<polygon fill=\"#000000\" points=\"112.2555,-216.6068 108.7554,-206.6068 105.2555,-216.6069 112.2555,-216.6068\" stroke=\"#000000\"/>\n",
       "</g>\n",
       "<!-- 4901035760 -->\n",
       "<g class=\"node\" id=\"node3\">\n",
       "<title>4901035760</title>\n",
       "<polygon fill=\"none\" points=\"13.6035,-81.5 13.6035,-125.5 203.9072,-125.5 203.9072,-81.5 13.6035,-81.5\" stroke=\"#000000\"/>\n",
       "<text fill=\"#000000\" font-family=\"Times,serif\" font-size=\"14.00\" text-anchor=\"middle\" x=\"39.0967\" y=\"-99.3\">Dense</text>\n",
       "<polyline fill=\"none\" points=\"64.5898,-81.5 64.5898,-125.5 \" stroke=\"#000000\"/>\n",
       "<text fill=\"#000000\" font-family=\"Times,serif\" font-size=\"14.00\" text-anchor=\"middle\" x=\"92.4243\" y=\"-110.3\">input:</text>\n",
       "<polyline fill=\"none\" points=\"64.5898,-103.5 120.2588,-103.5 \" stroke=\"#000000\"/>\n",
       "<text fill=\"#000000\" font-family=\"Times,serif\" font-size=\"14.00\" text-anchor=\"middle\" x=\"92.4243\" y=\"-88.3\">output:</text>\n",
       "<polyline fill=\"none\" points=\"120.2588,-81.5 120.2588,-125.5 \" stroke=\"#000000\"/>\n",
       "<text fill=\"#000000\" font-family=\"Times,serif\" font-size=\"14.00\" text-anchor=\"middle\" x=\"162.083\" y=\"-110.3\">(None, 500)</text>\n",
       "<polyline fill=\"none\" points=\"120.2588,-103.5 203.9072,-103.5 \" stroke=\"#000000\"/>\n",
       "<text fill=\"#000000\" font-family=\"Times,serif\" font-size=\"14.00\" text-anchor=\"middle\" x=\"162.083\" y=\"-88.3\">(None, 500)</text>\n",
       "</g>\n",
       "<!-- 4901035144&#45;&gt;4901035760 -->\n",
       "<g class=\"edge\" id=\"edge2\">\n",
       "<title>4901035144-&gt;4901035760</title>\n",
       "<path d=\"M108.7554,-162.3664C108.7554,-154.1516 108.7554,-144.6579 108.7554,-135.7252\" fill=\"none\" stroke=\"#000000\"/>\n",
       "<polygon fill=\"#000000\" points=\"112.2555,-135.6068 108.7554,-125.6068 105.2555,-135.6069 112.2555,-135.6068\" stroke=\"#000000\"/>\n",
       "</g>\n",
       "<!-- 4900111920 -->\n",
       "<g class=\"node\" id=\"node4\">\n",
       "<title>4900111920</title>\n",
       "<polygon fill=\"none\" points=\"13.6035,-.5 13.6035,-44.5 203.9072,-44.5 203.9072,-.5 13.6035,-.5\" stroke=\"#000000\"/>\n",
       "<text fill=\"#000000\" font-family=\"Times,serif\" font-size=\"14.00\" text-anchor=\"middle\" x=\"39.0967\" y=\"-18.3\">Dense</text>\n",
       "<polyline fill=\"none\" points=\"64.5898,-.5 64.5898,-44.5 \" stroke=\"#000000\"/>\n",
       "<text fill=\"#000000\" font-family=\"Times,serif\" font-size=\"14.00\" text-anchor=\"middle\" x=\"92.4243\" y=\"-29.3\">input:</text>\n",
       "<polyline fill=\"none\" points=\"64.5898,-22.5 120.2588,-22.5 \" stroke=\"#000000\"/>\n",
       "<text fill=\"#000000\" font-family=\"Times,serif\" font-size=\"14.00\" text-anchor=\"middle\" x=\"92.4243\" y=\"-7.3\">output:</text>\n",
       "<polyline fill=\"none\" points=\"120.2588,-.5 120.2588,-44.5 \" stroke=\"#000000\"/>\n",
       "<text fill=\"#000000\" font-family=\"Times,serif\" font-size=\"14.00\" text-anchor=\"middle\" x=\"162.083\" y=\"-29.3\">(None, 500)</text>\n",
       "<polyline fill=\"none\" points=\"120.2588,-22.5 203.9072,-22.5 \" stroke=\"#000000\"/>\n",
       "<text fill=\"#000000\" font-family=\"Times,serif\" font-size=\"14.00\" text-anchor=\"middle\" x=\"162.083\" y=\"-7.3\">(None, 10)</text>\n",
       "</g>\n",
       "<!-- 4901035760&#45;&gt;4900111920 -->\n",
       "<g class=\"edge\" id=\"edge3\">\n",
       "<title>4901035760-&gt;4900111920</title>\n",
       "<path d=\"M108.7554,-81.3664C108.7554,-73.1516 108.7554,-63.6579 108.7554,-54.7252\" fill=\"none\" stroke=\"#000000\"/>\n",
       "<polygon fill=\"#000000\" points=\"112.2555,-54.6068 108.7554,-44.6068 105.2555,-54.6069 112.2555,-54.6068\" stroke=\"#000000\"/>\n",
       "</g>\n",
       "</g>\n",
       "</svg>"
      ],
      "text/plain": [
       "<IPython.core.display.SVG object>"
      ]
     },
     "execution_count": 9,
     "metadata": {},
     "output_type": "execute_result"
    }
   ],
   "source": [
    "SVG(model_to_dot(model,\n",
    "                 show_shapes=True,\n",
    "                 show_layer_names=False).create(prog='dot', format='svg'))"
   ]
  },
  {
   "cell_type": "code",
   "execution_count": 10,
   "metadata": {
    "collapsed": false,
    "slideshow": {
     "slide_type": "subslide"
    }
   },
   "outputs": [],
   "source": [
    "model.compile(loss='mse',\n",
    "              optimizer=SGD(lr=0.1),\n",
    "              metrics=['accuracy'])"
   ]
  },
  {
   "cell_type": "code",
   "execution_count": 11,
   "metadata": {
    "collapsed": false,
    "slideshow": {
     "slide_type": "subslide"
    }
   },
   "outputs": [],
   "source": [
    "def train_and_show_result(model):\n",
    "    training_history = model.fit(X_train, Y_train,\n",
    "                                 batch_size=100, nb_epoch=NP_EPOCH,\n",
    "                                 verbose=2)\n",
    "\n",
    "    score = model.evaluate(X_test, Y_test)\n",
    "    print(\"\\n--------------------\\nTotal Testing Loss: \", score[1], \"\\nTesting Accuracy: \", score[1])\n",
    "    return training_history"
   ]
  },
  {
   "cell_type": "code",
   "execution_count": 12,
   "metadata": {
    "collapsed": true,
    "slideshow": {
     "slide_type": "subslide"
    }
   },
   "outputs": [],
   "source": [
    "def plot_training_history(training_history):\n",
    "    f, axarr = plt.subplots(2, sharex=True)\n",
    "    axarr[0].set_xlabel('Epoch')\n",
    "    axarr[0].set_ylabel('Training Accuracy')\n",
    "    axarr[0].plot(list(range(1, NP_EPOCH+1)), training_history.history['acc'])\n",
    "    axarr[1].set_ylabel('Training Error')\n",
    "    axarr[1].plot(list(range(1, NP_EPOCH+1)), training_history.history['loss'])"
   ]
  },
  {
   "cell_type": "code",
   "execution_count": 13,
   "metadata": {
    "collapsed": false,
    "slideshow": {
     "slide_type": "subslide"
    }
   },
   "outputs": [
    {
     "name": "stdout",
     "output_type": "stream",
     "text": [
      "Epoch 1/20\n",
      "1s - loss: 0.0903 - acc: 0.1105\n",
      "Epoch 2/20\n",
      "1s - loss: 0.0899 - acc: 0.1290\n",
      "Epoch 3/20\n",
      "1s - loss: 0.0898 - acc: 0.1360\n",
      "Epoch 4/20\n",
      "1s - loss: 0.0897 - acc: 0.1633\n",
      "Epoch 5/20\n",
      "1s - loss: 0.0897 - acc: 0.1524\n",
      "Epoch 6/20\n",
      "1s - loss: 0.0896 - acc: 0.1815\n",
      "Epoch 7/20\n",
      "1s - loss: 0.0895 - acc: 0.2218\n",
      "Epoch 8/20\n",
      "1s - loss: 0.0894 - acc: 0.1716\n",
      "Epoch 9/20\n",
      "1s - loss: 0.0894 - acc: 0.2083\n",
      "Epoch 10/20\n",
      "2s - loss: 0.0893 - acc: 0.2450\n",
      "Epoch 11/20\n",
      "2s - loss: 0.0892 - acc: 0.2524\n",
      "Epoch 12/20\n",
      "2s - loss: 0.0891 - acc: 0.2671\n",
      "Epoch 13/20\n",
      "1s - loss: 0.0891 - acc: 0.2819\n",
      "Epoch 14/20\n",
      "2s - loss: 0.0890 - acc: 0.2603\n",
      "Epoch 15/20\n",
      "1s - loss: 0.0889 - acc: 0.2808\n",
      "Epoch 16/20\n",
      "1s - loss: 0.0888 - acc: 0.2997\n",
      "Epoch 17/20\n",
      "2s - loss: 0.0887 - acc: 0.3098\n",
      "Epoch 18/20\n",
      "1s - loss: 0.0887 - acc: 0.3099\n",
      "Epoch 19/20\n",
      "2s - loss: 0.0886 - acc: 0.3151\n",
      "Epoch 20/20\n",
      "2s - loss: 0.0885 - acc: 0.2956\n",
      "1000/1000 [==============================] - 0s     \b\b\b\b\b\b\b\b\b\b\b\b\b\b\b\b\b\b\b\b\b\b\b\b\b\b\b\b\b\b\b\b\b\b\b\b\b\b\b\b\b\b\b\b\b\b\b\b\b\b\b\b\b\b\b\b\b\b\b\b\b\b\b\b\b\b\b\b\b\b\b\b\b\b\b\b\b\b\b\b\b\b\b\b\b\b\b\b\b\b\b\b\b\b\b\b\b\b\b\b\b\b\b\b\b\b\b\b\b\b\b\b\b\b\b\b\b\b\b\b\b\b\b\b\b\b\b\b\b\b\b\b\b\b\b\b\b\b\b\b\b\b\b\b\b\b\b\b\b\b\b\b\b\b\b\b\b\b\b\b\b\b\b\b\b\b\b\b\b\b\b\b\b\b\b\b\b\b\b\b\b\b\b\b\b\b\b\b\b\b\b\b\b\b\b\b\b\b\b\b\b\b\b\b\b\b\b\b\b\b\b\b\b\b\b\b\b\b\b\b\b\b\b\b\b\b\b\b\b\b\b\b\b\b\b\b\b\b\b\b\b\b\b\b\b\b\b\b\b\b\b\b\b\b\b\b\b\b\b\b\b\b\b\b\b\b\b\b\b\b\b\b\b\b\b\b\b\b\b\b\b\b\b\b\b\b\b\b\b\b\b\b\b\b\b\b\b\b\b\b\b\b\b\b\b\b\b\b\b\b\b\b\b\b\b\b\b\b\b\b\b\b\b\b\b\b\b\b\b\b\b\b\b\b\b\b\b\b\b\b\b\b\b\b\b\b\b\b\b\b\b\b\b\b\b\b\b\b\b\b\b\b\b\b\b\b\b\b\b\b\b\b\b\b\b\b\b\b\b\b\b\b\b\b\b\b\b\b\b\b\b\b\b\b\b\b\b\b\b\b\b\b\b\b\b\b\b\b\b\b\b\b\b\b\b\b\b\b\b\b\b\b\b\b\b\b\b\b\b\b\b\b\b\b\b\b\b\b\b\b\b\b\b\b\b\b\b\b\b\b\b\b\b\b\b\b\b\b\b\b\b\b\b\b\b\b\b\b\b\b\b\b\b\b\b\b\b\b\b\b\b\b\b\b\b\b\b\b\b\b\b\b\b\b\b\b\b\b\b\b\b\b\b\b\b\b\b\b\b\b\b\b\b\b\b\b\b\b\b\b\b\b\b\b\b\b\b\b\b\b\b\b\b\b\b\b\b\b\b\b\b\b\b\b\b\b\b\b\b\b\b\b\b\b\b\b\b\b\b\b\b\b\b\b\b\b\b\b\b\b\b\b\b\b\b\b\b\b\b\b\b\b\b\b\b\b\b\b\b\b\b\b\b\b\b\b\b\b\b\b\b\b\b\b\b\b\b\b\b\b\b\b\b\b\b\b\b\b\b\b\b\b\b\b\b\b\b\b\b\b\b\b\b\b\b\b\b\b\b\b\b\b\b\b\b\b\b\b\b\b\b\b\b\b\b\b\b\b\b\b\b\b\b\b\b\b\b\b\b\b\b\b\b\b\b\b\b\b\b\b\b\b\b\b\b\b\b\b\b\b\b\b\b\b\b\b\b\b\b\b\b\b\b\b\b\b\b\b\b\b\b\b\b\b\b\b\b\b\b\b\b\b\b\b\b\b\b\b\b\b\b\b\b\b\b\b\b\b\b\b\b\b\b\b\b\b\b\b\b\b\b\b\b\b\b\b\b\b\b\b\b\b\b\b\b\b\b\b\b\b\b\b\b\b\b\b\b\b\b\b\b\b\b\b\b\b\b\b\b\b\b\b\b\b\b\b\b\b\b\b\b\b\b\b\b\b\b\b\b\b\b\b\b\b\b\b\b\b\b\b\b\b\b\b\b\b\b\b\b\b\b\b\b\b\b\b\b\b\b\b\b\b\b\b\b\b\b\b\b\b\b\b\b\b\b\b\b\b\b\b\b\b\b\b\b\b\b\b\b\b\b\b\b\b\b\b\b\b\b\b\b\b\b\b\b\b\b\b\b\b\b\b\b\b\b\b\b\b\b\b\b\b\b\b\b\b\b\b\b\b\b\b\b\b\b\b\b\b\b\b\b\b\b\b\b\b\b\b\b\b\b\b\b\b\b\b\b\b\b\b\b\b\b\b\b\b\b\b\b\b\b\b\b\b\b\b\b\b\b\b\b\b\b\b\b\b\b\b\b\b\b\b\b\b\b\b\b\b\b\b\b\b\b\b\b\b\b\b\b\b\b\b\b\b\b\b\b\b\b\b\b\b\b\b\b\b\b\b\b\b\b\b\b\b\b\b\b\b\b\b\b\b\b\b\b\b\b\b\b\b\b\b\b\b\b\b\b\b\b\b\b\b\b\b\b\b\b\b\b\b\b\b\b\b\b\b\b\b\b\b\b\b\b\b\b\b\b\b\b\b\b\b\b\b\b\b\b\b\b\b\b\b\b\b\b\b\b\b\b\b\b\b\b\b\b\b\b\b\b\b\b\b\b\b\b\b\b\b\b\b\b\b\b\b\b\b\b\b\b\b\b\b\b\b\b\b\b\b\b\b\b\b\b\b\b\b\b\b\b\b\b\b\b\b\n",
      "\n",
      "--------------------\n",
      "Total Testing Loss:  0.306 \n",
      "Testing Accuracy:  0.306\n",
      "CPU times: user 1min 23s, sys: 3.32 s, total: 1min 27s\n",
      "Wall time: 39.5 s\n"
     ]
    }
   ],
   "source": [
    "%%time\n",
    "history = train_and_show_result(model)"
   ]
  },
  {
   "cell_type": "code",
   "execution_count": 14,
   "metadata": {
    "collapsed": false,
    "slideshow": {
     "slide_type": "subslide"
    }
   },
   "outputs": [
    {
     "data": {
      "image/png": "[encoded data removed]",
      "text/plain": [
       "<matplotlib.figure.Figure at 0x12f7b1358>"
      ]
     },
     "metadata": {},
     "output_type": "display_data"
    }
   ],
   "source": [
    "plot_training_history(history)"
   ]
  },
  {
   "cell_type": "markdown",
   "metadata": {
    "slideshow": {
     "slide_type": "slide"
    }
   },
   "source": [
    "# Cross Entropy"
   ]
  },
  {
   "cell_type": "code",
   "execution_count": 15,
   "metadata": {
    "collapsed": false
   },
   "outputs": [],
   "source": [
    "model.compile(loss='categorical_crossentropy',\n",
    "              optimizer=SGD(lr=0.1),\n",
    "              metrics=['accuracy'])"
   ]
  },
  {
   "cell_type": "code",
   "execution_count": 16,
   "metadata": {
    "collapsed": false,
    "slideshow": {
     "slide_type": "subslide"
    }
   },
   "outputs": [
    {
     "name": "stdout",
     "output_type": "stream",
     "text": [
      "Epoch 1/20\n",
      "2s - loss: 2.2582 - acc: 0.1818\n",
      "Epoch 2/20\n",
      "2s - loss: 1.8396 - acc: 0.4324\n",
      "Epoch 3/20\n",
      "2s - loss: 1.3142 - acc: 0.6353\n",
      "Epoch 4/20\n",
      "2s - loss: 0.9522 - acc: 0.7361\n",
      "Epoch 5/20\n",
      "1s - loss: 0.7551 - acc: 0.7971\n",
      "Epoch 6/20\n",
      "1s - loss: 0.6333 - acc: 0.8351\n",
      "Epoch 7/20\n",
      "2s - loss: 0.5564 - acc: 0.8488\n",
      "Epoch 8/20\n",
      "2s - loss: 0.5057 - acc: 0.8604\n",
      "Epoch 9/20\n",
      "2s - loss: 0.4641 - acc: 0.8732\n",
      "Epoch 10/20\n",
      "1s - loss: 0.4362 - acc: 0.8802\n",
      "Epoch 11/20\n",
      "1s - loss: 0.4139 - acc: 0.8864\n",
      "Epoch 12/20\n",
      "1s - loss: 0.3939 - acc: 0.8905\n",
      "Epoch 13/20\n",
      "2s - loss: 0.3821 - acc: 0.8932\n",
      "Epoch 14/20\n",
      "1s - loss: 0.3699 - acc: 0.8964\n",
      "Epoch 15/20\n",
      "1s - loss: 0.3587 - acc: 0.8999\n",
      "Epoch 16/20\n",
      "1s - loss: 0.3498 - acc: 0.9006\n",
      "Epoch 17/20\n",
      "1s - loss: 0.3425 - acc: 0.9012\n",
      "Epoch 18/20\n",
      "1s - loss: 0.3342 - acc: 0.9042\n",
      "Epoch 19/20\n",
      "1s - loss: 0.3266 - acc: 0.9079\n",
      "Epoch 20/20\n",
      "1s - loss: 0.3236 - acc: 0.9080\n",
      " 960/1000 [===========================>..] - ETA: 0s\b\b\b\b\b\b\b\b\b\b\b\b\b\b\b\b\b\b\b\b\b\b\b\b\b\b\b\b\b\b\b\b\b\b\b\b\b\b\b\b\b\b\b\b\b\b\b\b\b\b\b\b\b\b\b\b\b\b\b\b\b\b\b\b\b\b\b\b\b\b\b\b\b\b\b\b\b\b\b\b\b\b\b\b\b\b\b\b\b\b\b\b\b\b\b\b\b\b\b\b\b\b\b\b\b\b\b\b\b\b\b\b\b\b\b\b\b\b\b\b\b\b\b\b\b\b\b\b\b\b\b\b\b\b\b\b\b\b\b\b\b\b\b\b\b\b\b\b\b\b\b\b\b\b\b\b\b\b\b\b\b\b\b\b\b\b\b\b\b\b\b\b\b\b\b\b\b\b\b\b\b\b\b\b\b\b\b\b\b\b\b\b\b\b\b\b\b\b\b\b\b\b\b\b\b\b\b\b\b\b\b\b\b\b\b\b\b\b\b\b\b\b\b\b\b\b\b\b\b\b\b\b\b\b\b\b\b\b\b\b\b\b\b\b\b\b\b\b\b\b\b\b\b\b\b\b\b\b\b\b\b\b\b\b\b\b\b\b\b\b\b\b\b\b\b\b\b\b\b\b\b\b\b\b\b\b\b\b\b\b\b\b\b\b\b\b\b\b\b\b\b\b\b\b\b\b\b\b\b\b\b\b\b\b\b\b\b\b\b\b\b\b\b\b\b\b\b\b\b\b\b\b\b\b\b\b\b\b\b\b\b\b\b\b\b\b\b\b\b\b\b\b\b\b\b\b\b\b\b\b\b\b\b\b\b\b\b\b\b\b\b\b\b\b\b\b\b\b\b\b\b\b\b\b\b\b\b\b\b\b\b\b\b\b\b\b\b\b\b\b\b\b\b\b\b\b\b\b\b\b\b\b\b\b\b\b\n",
      "--------------------\n",
      "Total Testing Loss:  0.88 \n",
      "Testing Accuracy:  0.88\n",
      "CPU times: user 1min 25s, sys: 3.68 s, total: 1min 29s\n",
      "Wall time: 39.5 s\n"
     ]
    }
   ],
   "source": [
    "%%time\n",
    "history = train_and_show_result(model)"
   ]
  },
  {
   "cell_type": "code",
   "execution_count": 17,
   "metadata": {
    "collapsed": false,
    "slideshow": {
     "slide_type": "subslide"
    }
   },
   "outputs": [
    {
     "data": {
      "image/png": "[encoded data removed]",
      "text/plain": [
       "<matplotlib.figure.Figure at 0x12415db00>"
      ]
     },
     "metadata": {},
     "output_type": "display_data"
    }
   ],
   "source": [
    "plot_training_history(history)"
   ]
  },
  {
   "cell_type": "markdown",
   "metadata": {
    "slideshow": {
     "slide_type": "slide"
    }
   },
   "source": [
    "# Deeper"
   ]
  },
  {
   "cell_type": "code",
   "execution_count": 18,
   "metadata": {
    "collapsed": false
   },
   "outputs": [],
   "source": [
    "model = Sequential()\n",
    "\n",
    "model.add(Dense(input_dim=28*28, output_dim=500, activation='sigmoid'))\n",
    "\n",
    "model.add(Dense(output_dim=500, activation='sigmoid'))\n",
    "model.add(Dense(output_dim=500, activation='sigmoid'))\n",
    "model.add(Dense(output_dim=500, activation='sigmoid'))\n",
    "model.add(Dense(output_dim=500, activation='sigmoid'))\n",
    "model.add(Dense(output_dim=500, activation='sigmoid'))\n",
    "model.add(Dense(output_dim=500, activation='sigmoid'))\n",
    "model.add(Dense(output_dim=500, activation='sigmoid'))\n",
    "model.add(Dense(output_dim=500, activation='sigmoid'))\n",
    "\n",
    "model.add(Dense(output_dim=10, activation='softmax'))"
   ]
  },
  {
   "cell_type": "code",
   "execution_count": 19,
   "metadata": {
    "collapsed": true,
    "slideshow": {
     "slide_type": "subslide"
    }
   },
   "outputs": [],
   "source": [
    "model.compile(loss='categorical_crossentropy',\n",
    "              optimizer=SGD(lr=0.1),\n",
    "              metrics=['accuracy'])"
   ]
  },
  {
   "cell_type": "code",
   "execution_count": 20,
   "metadata": {
    "collapsed": false,
    "slideshow": {
     "slide_type": "subslide"
    }
   },
   "outputs": [
    {
     "name": "stdout",
     "output_type": "stream",
     "text": [
      "Epoch 1/20\n",
      "8s - loss: 2.4371 - acc: 0.0981\n",
      "Epoch 2/20\n",
      "6s - loss: 2.3626 - acc: 0.1003\n",
      "Epoch 3/20\n",
      "6s - loss: 2.3477 - acc: 0.0997\n",
      "Epoch 4/20\n",
      "6s - loss: 2.3375 - acc: 0.0985\n",
      "Epoch 5/20\n",
      "7s - loss: 2.3319 - acc: 0.1018\n",
      "Epoch 6/20\n",
      "8s - loss: 2.3272 - acc: 0.1037\n",
      "Epoch 7/20\n",
      "7s - loss: 2.3263 - acc: 0.1033\n",
      "Epoch 8/20\n",
      "6s - loss: 2.3268 - acc: 0.0984\n",
      "Epoch 9/20\n",
      "6s - loss: 2.3187 - acc: 0.1015\n",
      "Epoch 10/20\n",
      "7s - loss: 2.3181 - acc: 0.1089\n",
      "Epoch 11/20\n",
      "6s - loss: 2.3142 - acc: 0.1018\n",
      "Epoch 12/20\n",
      "7s - loss: 2.3146 - acc: 0.1029\n",
      "Epoch 13/20\n",
      "6s - loss: 2.3137 - acc: 0.1016\n",
      "Epoch 14/20\n",
      "6s - loss: 2.3120 - acc: 0.1058\n",
      "Epoch 15/20\n",
      "6s - loss: 2.3124 - acc: 0.1032\n",
      "Epoch 16/20\n",
      "6s - loss: 2.3107 - acc: 0.1045\n",
      "Epoch 17/20\n",
      "6s - loss: 2.3109 - acc: 0.1012\n",
      "Epoch 18/20\n",
      "7s - loss: 2.3093 - acc: 0.1042\n",
      "Epoch 19/20\n",
      "6s - loss: 2.3095 - acc: 0.1023\n",
      "Epoch 20/20\n",
      "6s - loss: 2.3090 - acc: 0.1029\n",
      " 992/1000 [============================>.] - ETA: 0s\b\b\b\b\b\b\b\b\b\b\b\b\b\b\b\b\b\b\b\b\b\b\b\b\b\b\b\b\b\b\b\b\b\b\b\b\b\b\b\b\b\b\b\b\b\b\b\b\b\b\b\b\b\b\b\b\b\b\b\b\b\b\b\b\b\b\b\b\b\b\b\b\b\b\b\b\b\b\b\b\b\b\b\b\b\b\b\b\b\b\b\b\b\b\b\b\b\b\b\b\b\b\b\b\b\b\b\b\b\b\b\b\b\b\b\b\b\b\b\b\b\b\b\b\b\b\b\b\b\b\b\b\b\b\b\b\b\b\b\b\b\b\b\b\b\b\b\b\b\b\b\b\b\b\b\b\b\b\b\b\b\b\b\b\b\b\b\b\b\b\b\b\b\b\b\b\b\b\b\b\b\b\b\b\b\b\b\b\b\b\b\b\b\b\b\b\b\b\b\b\b\b\b\b\b\b\b\b\b\b\b\b\b\b\b\b\b\b\b\b\b\b\b\b\b\b\b\b\b\b\b\b\b\b\b\b\b\b\b\b\b\b\b\b\b\b\b\b\b\b\b\b\b\b\b\b\b\b\b\b\b\b\b\b\b\b\b\b\b\b\b\b\b\b\b\b\b\b\b\b\b\b\b\b\b\b\b\b\b\b\b\b\b\b\b\b\b\b\b\b\b\b\b\b\b\b\b\b\b\b\b\b\b\b\b\b\b\b\b\b\b\b\b\b\b\b\b\b\b\b\b\b\b\b\b\b\b\b\b\b\b\b\b\b\b\b\b\b\b\b\b\b\b\b\b\b\b\b\b\b\b\b\b\b\b\b\b\b\b\b\b\b\b\b\b\b\b\b\b\b\b\b\b\b\b\b\b\b\b\b\b\b\b\b\b\b\b\b\b\b\b\b\b\b\b\b\b\b\b\b\b\b\b\b\b\b\b\b\b\b\b\b\b\b\b\b\b\b\b\b\b\b\b\b\b\b\b\b\b\b\b\b\b\b\b\b\b\b\b\b\b\b\b\b\b\b\b\b\b\b\b\b\b\b\b\b\b\b\b\b\b\b\b\b\b\b\b\b\b\b\b\b\b\b\b\b\b\b\b\b\b\b\b\b\b\b\b\b\b\b\b\b\b\b\b\b\b\b\b\b\b\b\b\b\b\b\b\b\b\b\b\b\b\b\b\b\b\b\b\b\b\b\b\b\b\b\b\b\b\b\b\b\b\b\b\b\b\b\b\b\b\b\b\b\b\b\b\b\b\b\b\b\b\b\b\b\b\b\b\b\b\b\b\b\b\b\b\b\b\b\b\b\b\b\b\b\b\b\b\b\b\b\b\b\b\b\b\b\b\b\b\b\b\b\b\b\b\b\b\b\b\b\b\b\b\b\b\b\b\b\b\b\b\b\b\b\b\b\b\b\b\b\b\b\b\b\b\b\b\b\b\b\b\b\b\b\b\b\b\b\b\b\b\b\b\b\b\b\b\b\b\b\b\b\b\b\b\b\b\b\b\b\b\b\b\b\b\b\b\b\b\b\b\b\b\b\b\b\b\b\b\b\b\b\b\b\b\b\b\b\b\b\b\b\b\b\b\b\b\b\b\b\b\b\b\b\b\b\b\b\b\b\b\b\b\b\b\b\b\b\b\b\b\b\b\b\b\b\b\b\b\b\b\b\b\b\b\b\b\b\b\b\b\b\b\b\b\b\b\b\b\b\b\b\b\b\b\b\b\b\b\b\b\b\b\b\b\b\b\b\b\b\b\b\b\b\b\b\b\b\b\b\b\b\b\b\b\b\b\b\b\b\b\b\b\b\b\b\b\b\b\b\b\b\b\b\b\b\b\b\b\b\b\b\b\b\b\b\b\b\b\b\b\b\b\b\b\b\b\b\b\b\b\b\b\b\b\b\b\b\b\b\b\b\b\b\b\b\b\b\b\b\b\b\b\b\b\b\b\b\b\b\b\b\b\b\b\b\b\b\b\b\b\b\b\b\b\b\b\b\b\b\b\b\b\b\b\b\b\b\b\b\b\b\b\b\b\b\b\b\b\b\b\b\b\b\b\b\b\b\b\b\b\b\b\b\b\b\b\b\b\b\b\b\b\b\b\b\b\b\b\b\b\b\b\b\b\b\b\b\b\b\b\b\b\b\b\b\b\b\b\b\b\b\b\b\b\b\b\b\b\b\b\b\b\b\b\b\b\b\b\b\b\b\b\b\b\b\n",
      "--------------------\n",
      "Total Testing Loss:  0.126 \n",
      "Testing Accuracy:  0.126\n",
      "CPU times: user 5min 38s, sys: 21.8 s, total: 5min 59s\n",
      "Wall time: 2min 22s\n"
     ]
    }
   ],
   "source": [
    "%%time\n",
    "history = train_and_show_result(model)"
   ]
  },
  {
   "cell_type": "code",
   "execution_count": 21,
   "metadata": {
    "collapsed": false,
    "slideshow": {
     "slide_type": "subslide"
    }
   },
   "outputs": [
    {
     "data": {
      "image/png": "[encoded data removed]",
      "text/plain": [
       "<matplotlib.figure.Figure at 0x130a1b128>"
      ]
     },
     "metadata": {},
     "output_type": "display_data"
    }
   ],
   "source": [
    "plot_training_history(history)"
   ]
  },
  {
   "cell_type": "markdown",
   "metadata": {
    "slideshow": {
     "slide_type": "slide"
    }
   },
   "source": [
    "# ReLU"
   ]
  },
  {
   "cell_type": "code",
   "execution_count": 22,
   "metadata": {
    "collapsed": true
   },
   "outputs": [],
   "source": [
    "model = Sequential()\n",
    "\n",
    "model.add(Dense(input_dim=28*28, output_dim=500, activation='relu'))\n",
    "\n",
    "model.add(Dense(output_dim=500, activation='relu'))\n",
    "model.add(Dense(output_dim=500, activation='relu'))\n",
    "model.add(Dense(output_dim=500, activation='relu'))\n",
    "model.add(Dense(output_dim=500, activation='relu'))\n",
    "model.add(Dense(output_dim=500, activation='relu'))\n",
    "model.add(Dense(output_dim=500, activation='relu'))\n",
    "model.add(Dense(output_dim=500, activation='relu'))\n",
    "model.add(Dense(output_dim=500, activation='relu'))\n",
    "\n",
    "model.add(Dense(output_dim=10, activation='softmax'))"
   ]
  },
  {
   "cell_type": "code",
   "execution_count": 23,
   "metadata": {
    "collapsed": false,
    "slideshow": {
     "slide_type": "subslide"
    }
   },
   "outputs": [],
   "source": [
    "model.compile(loss='categorical_crossentropy',\n",
    "              optimizer=SGD(lr=0.1),\n",
    "              metrics=['accuracy'])"
   ]
  },
  {
   "cell_type": "code",
   "execution_count": 24,
   "metadata": {
    "collapsed": false,
    "slideshow": {
     "slide_type": "subslide"
    }
   },
   "outputs": [
    {
     "name": "stdout",
     "output_type": "stream",
     "text": [
      "Epoch 1/20\n",
      "8s - loss: 1.9295 - acc: 0.3481\n",
      "Epoch 2/20\n",
      "8s - loss: 0.7868 - acc: 0.7438\n",
      "Epoch 3/20\n",
      "8s - loss: 0.4664 - acc: 0.8639\n",
      "Epoch 4/20\n",
      "6s - loss: 0.2514 - acc: 0.9277\n",
      "Epoch 5/20\n",
      "6s - loss: 0.1565 - acc: 0.9554\n",
      "Epoch 6/20\n",
      "7s - loss: 0.1149 - acc: 0.9674\n",
      "Epoch 7/20\n",
      "6s - loss: 0.0878 - acc: 0.9755\n",
      "Epoch 8/20\n",
      "6s - loss: 0.0663 - acc: 0.9801\n",
      "Epoch 9/20\n",
      "6s - loss: 0.0376 - acc: 0.9897\n",
      "Epoch 10/20\n",
      "5s - loss: 0.0293 - acc: 0.9919\n",
      "Epoch 11/20\n",
      "5s - loss: 0.0157 - acc: 0.9966\n",
      "Epoch 12/20\n",
      "5s - loss: 0.0986 - acc: 0.9781\n",
      "Epoch 13/20\n",
      "5s - loss: 0.0174 - acc: 0.9952\n",
      "Epoch 14/20\n",
      "6s - loss: 0.0062 - acc: 0.9990\n",
      "Epoch 15/20\n",
      "5s - loss: 0.0021 - acc: 0.9998\n",
      "Epoch 16/20\n",
      "5s - loss: 0.0013 - acc: 0.9997\n",
      "Epoch 17/20\n",
      "5s - loss: 7.3086e-04 - acc: 0.9999\n",
      "Epoch 18/20\n",
      "6s - loss: 4.8557e-04 - acc: 1.0000\n",
      "Epoch 19/20\n",
      "5s - loss: 3.6850e-04 - acc: 1.0000\n",
      "Epoch 20/20\n",
      "6s - loss: 3.0188e-04 - acc: 1.0000\n",
      "1000/1000 [==============================] - 0s     \b\b\b\b\b\b\b\b\b\b\b\b\b\b\b\b\b\b\b\b\b\b\b\b\b\b\b\b\b\b\b\b\b\b\b\b\b\b\b\b\b\b\b\b\b\b\b\b\b\b\b\b\b\b\b\b\b\b\b\b\b\b\b\b\b\b\b\b\b\b\b\b\b\b\b\b\b\b\b\b\b\b\b\b\b\b\b\b\b\b\b\b\b\b\b\b\b\b\b\b\b\b\b\b\b\b\b\b\b\b\b\b\b\b\b\b\b\b\b\b\b\b\b\b\b\b\b\b\b\b\b\b\b\b\b\b\b\b\b\b\b\b\b\b\b\b\b\b\b\b\b\b\b\b\b\b\b\b\b\b\b\b\b\b\b\b\b\b\b\b\b\b\b\b\b\b\b\b\b\b\b\b\b\b\b\b\b\b\b\b\b\b\b\b\b\b\b\b\b\b\b\b\b\b\b\b\b\b\b\b\b\b\b\b\b\b\b\b\b\b\b\b\b\b\b\b\b\b\b\b\b\b\b\b\b\b\b\b\b\b\b\b\b\b\b\b\b\b\b\b\b\b\b\b\b\b\b\b\b\b\b\b\b\b\b\b\b\b\b\b\b\b\b\b\b\b\b\b\b\b\b\b\b\b\b\b\b\b\b\b\b\b\b\b\b\b\b\b\b\b\b\b\b\b\b\b\b\b\b\b\b\b\b\b\b\b\b\b\b\b\b\b\b\b\b\b\b\b\b\b\b\b\b\b\b\b\b\b\b\b\b\b\b\b\b\b\b\b\b\b\b\b\b\b\b\b\b\b\b\b\b\b\b\b\b\b\b\b\b\b\b\b\b\b\b\b\b\b\b\b\b\b\b\b\b\b\b\b\b\b\b\b\b\b\b\b\b\b\b\b\b\b\b\b\b\b\b\b\b\b\b\b\b\b\b\b\b\b\b\b\b\b\b\b\b\b\b\b\b\b\b\b\b\b\b\b\b\b\b\b\b\b\b\b\b\b\b\b\b\b\b\b\b\b\b\b\b\b\b\b\b\b\b\b\b\b\b\b\b\b\b\b\b\b\b\b\b\b\b\b\b\b\b\b\b\b\b\b\b\b\b\b\b\b\b\b\b\b\b\b\b\b\b\b\b\b\b\b\b\b\b\b\b\b\b\b\b\b\b\b\b\b\b\b\b\b\b\b\b\b\b\b\b\b\b\b\b\b\b\b\b\b\b\b\b\b\b\b\b\b\b\b\b\b\b\b\b\b\b\b\b\b\b\b\b\b\b\b\b\b\b\b\b\b\b\b\b\b\b\b\b\b\b\b\b\b\b\b\b\b\b\b\b\b\b\b\b\b\b\b\b\b\b\b\b\b\b\b\b\b\b\b\b\b\b\b\b\b\b\b\b\b\b\b\b\b\b\b\b\b\b\b\b\b\b\b\b\b\b\b\b\b\b\b\b\b\b\b\b\b\b\b\b\b\b\b\b\b\b\b\b\b\b\b\b\b\b\b\b\b\b\b\b\b\b\b\b\b\b\b\b\b\b\b\b\b\b\b\b\b\b\b\b\b\b\b\b\b\b\b\b\b\b\b\b\b\b\b\b\b\b\b\b\b\b\b\b\b\b\b\b\b\b\b\b\b\b\b\b\b\b\b\b\b\b\b\b\b\b\b\b\b\b\b\b\b\b\b\b\b\b\b\b\b\b\b\b\b\b\b\b\b\b\b\b\b\b\b\b\b\b\b\b\b\b\b\b\b\b\b\b\b\b\b\b\b\b\b\b\b\b\b\b\b\b\b\b\b\b\b\b\b\b\b\b\b\b\b\b\b\b\b\b\b\b\b\b\b\b\b\b\b\b\b\b\b\b\b\b\b\b\b\b\b\b\b\b\b\b\b\b\b\b\b\b\b\b\b\b\b\b\b\b\b\b\b\b\b\b\b\b\b\b\b\b\b\b\b\b\b\b\b\b\b\b\b\b\b\b\b\b\b\b\b\b\b\b\b\b\b\b\b\b\b\b\b\b\b\b\b\b\b\b\b\b\b\b\b\b\b\b\b\b\b\b\b\b\b\b\b\b\b\b\b\b\b\b\b\b\b\b\b\b\b\b\b\b\b\b\b\b\b\b\b\b\b\b\b\b\b\b\b\b\b\b\b\b\b\b\b\b\b\b\b\b\b\b\b\b\b\b\b\b\b\b\b\b\b\b\b\b\b\b\b\b\b\b\b\b\b\b\b\b\b\b\b\b\b\b\b\b\b\b\b\b\b\b\b\b\b\b\b\b\b\b\b\b\b\b\b\b\b\b\b\b\b\b\b\b\b\b\b\b\b\b\b\b\b\b\b\b\b\b\b\b\b\b\b\b\b\b\b\b\b\b\b\b\b\b\b\b\b\b\b\b\b\b\b\b\b\b\b\b\b\b\b\b\b\b\b\b\b\b\b\b\b\b\b\b\b\b\b\b\b\b\b\b\b\b\b\b\b\b\b\b\b\b\b\b\b\b\b\b\b\b\b\b\b\b\b\b\b\b\b\b\b\b\b\b\b\b\b\b\b\b\b\b\b\b\b\b\b\b\b\b\b\b\b\b\b\b\b\b\b\b\b\b\b\b\b\b\b\b\b\b\b\b\b\b\b\b\b\b\b\b\b\b\b\b\b\b\b\b\b\b\b\b\b\b\b\b\b\b\b\b\b\b\b\b\b\b\b\b\b\b\b\b\b\b\b\b\b\b\b\b\b\b\b\b\b\b\b\b\b\b\b\b\b\b\b\b\b\b\b\b\b\b\b\b\b\b\b\b\b\b\b\b\b\b\b\b\b\b\b\b\b\b\b\b\b\b\b\b\b\b\b\b\b\b\b\b\b\b\b\b\b\b\b\b\b\b\b\b\b\b\b\b\b\b\b\b\b\b\b\b\b\b\b\b\b\b\b\b\b\b\b\b\b\b\b\b\b\b\b\b\b\b\b\b\b\b\b\b\b\b\b\b\b\b\b\b\b\b\b\b\b\b\b\b\b\b\b\b\b\b\b\b\b\b\b\b\b\n",
      "\n",
      "--------------------\n",
      "Total Testing Loss:  0.952 \n",
      "Testing Accuracy:  0.952\n",
      "CPU times: user 5min 22s, sys: 20.7 s, total: 5min 43s\n",
      "Wall time: 2min 8s\n"
     ]
    }
   ],
   "source": [
    "%%time\n",
    "history = train_and_show_result(model)"
   ]
  },
  {
   "cell_type": "code",
   "execution_count": 25,
   "metadata": {
    "collapsed": false,
    "slideshow": {
     "slide_type": "subslide"
    }
   },
   "outputs": [
    {
     "data": {
      "image/png": "[encoded data removed]",
      "text/plain": [
       "<matplotlib.figure.Figure at 0x11f4a1208>"
      ]
     },
     "metadata": {},
     "output_type": "display_data"
    }
   ],
   "source": [
    "plot_training_history(history)"
   ]
  },
  {
   "cell_type": "markdown",
   "metadata": {
    "slideshow": {
     "slide_type": "slide"
    }
   },
   "source": [
    "# Adam (Adaptive Learning Rate + Momentum)"
   ]
  },
  {
   "cell_type": "code",
   "execution_count": 26,
   "metadata": {
    "collapsed": false,
    "slideshow": {
     "slide_type": "-"
    }
   },
   "outputs": [],
   "source": [
    "model.compile(loss='categorical_crossentropy',\n",
    "              optimizer=Adam(),\n",
    "              metrics=['accuracy'])"
   ]
  },
  {
   "cell_type": "code",
   "execution_count": 27,
   "metadata": {
    "collapsed": false,
    "slideshow": {
     "slide_type": "subslide"
    }
   },
   "outputs": [
    {
     "name": "stdout",
     "output_type": "stream",
     "text": [
      "Epoch 1/20\n",
      "8s - loss: 0.2683 - acc: 0.9429\n",
      "Epoch 2/20\n",
      "8s - loss: 0.0823 - acc: 0.9769\n",
      "Epoch 3/20\n",
      "7s - loss: 0.0709 - acc: 0.9799\n",
      "Epoch 4/20\n",
      "7s - loss: 0.0707 - acc: 0.9803\n",
      "Epoch 5/20\n",
      "7s - loss: 0.0867 - acc: 0.9776\n",
      "Epoch 6/20\n",
      "8s - loss: 0.0599 - acc: 0.9849\n",
      "Epoch 7/20\n",
      "7s - loss: 0.0529 - acc: 0.9858\n",
      "Epoch 8/20\n",
      "7s - loss: 0.0515 - acc: 0.9869\n",
      "Epoch 9/20\n",
      "7s - loss: 0.0535 - acc: 0.9860\n",
      "Epoch 10/20\n",
      "8s - loss: 0.0547 - acc: 0.9858\n",
      "Epoch 11/20\n",
      "7s - loss: 0.0602 - acc: 0.9872\n",
      "Epoch 12/20\n",
      "7s - loss: 0.0490 - acc: 0.9893\n",
      "Epoch 13/20\n",
      "7s - loss: 0.0372 - acc: 0.9905\n",
      "Epoch 14/20\n",
      "7s - loss: 0.0245 - acc: 0.9944\n",
      "Epoch 15/20\n",
      "7s - loss: 0.0340 - acc: 0.9917\n",
      "Epoch 16/20\n",
      "7s - loss: 0.0296 - acc: 0.9928\n",
      "Epoch 17/20\n",
      "7s - loss: 0.0330 - acc: 0.9922\n",
      "Epoch 18/20\n",
      "7s - loss: 0.0510 - acc: 0.9883\n",
      "Epoch 19/20\n",
      "7s - loss: 0.0319 - acc: 0.9926\n",
      "Epoch 20/20\n",
      "7s - loss: 0.0376 - acc: 0.9912\n",
      " 992/1000 [============================>.] - ETA: 0s\b\b\b\b\b\b\b\b\b\b\b\b\b\b\b\b\b\b\b\b\b\b\b\b\b\b\b\b\b\b\b\b\b\b\b\b\b\b\b\b\b\b\b\b\b\b\b\b\b\b\b\b\b\b\b\b\b\b\b\b\b\b\b\b\b\b\b\b\b\b\b\b\b\b\b\b\b\b\b\b\b\b\b\b\b\b\b\b\b\b\b\b\b\b\b\b\b\b\b\b\b\b\b\b\b\b\b\b\b\b\b\b\b\b\b\b\b\b\b\b\b\b\b\b\b\b\b\b\b\b\b\b\b\b\b\b\b\b\b\b\b\b\b\b\b\b\b\b\b\b\b\b\b\b\b\b\b\b\b\b\b\b\b\b\b\b\b\b\b\b\b\b\b\b\b\b\b\b\b\b\b\b\b\b\b\b\b\b\b\b\b\b\b\b\b\b\b\b\b\b\b\b\b\b\b\b\b\b\b\b\b\b\b\b\b\b\b\b\b\b\b\b\b\b\b\b\b\b\b\b\b\b\b\b\b\b\b\b\b\b\b\b\b\b\b\b\b\b\b\b\b\b\b\b\b\b\b\b\b\b\b\b\b\b\b\b\b\b\b\b\b\b\b\b\b\b\b\b\b\b\b\b\b\b\b\b\b\b\b\b\b\b\b\b\b\b\b\b\b\b\b\b\b\b\b\b\b\b\b\b\b\b\b\b\b\b\b\b\b\b\b\b\b\b\b\b\b\b\b\b\b\b\b\b\b\b\b\b\b\b\b\b\b\b\b\b\b\b\b\b\b\b\b\b\b\b\b\b\b\b\b\b\b\b\b\b\b\b\b\b\b\b\b\b\b\b\b\b\b\b\b\b\b\b\b\b\b\b\b\b\b\b\b\b\b\b\b\b\b\b\b\b\b\b\b\b\b\b\b\b\b\b\b\b\b\b\b\b\b\b\b\b\b\b\b\b\b\b\b\b\b\b\b\b\b\b\b\b\b\b\b\b\b\b\b\b\b\b\b\b\b\b\b\b\b\b\b\b\b\b\b\b\b\b\b\b\b\b\b\b\b\b\b\b\b\b\b\b\b\b\b\b\b\b\b\b\b\b\b\b\b\b\b\b\b\b\b\b\b\b\b\b\b\b\b\b\b\b\b\b\b\b\b\b\b\b\b\b\b\b\b\b\b\b\b\b\b\b\b\b\b\b\b\b\b\b\b\b\b\b\b\b\b\b\b\b\b\b\b\b\b\b\b\b\b\b\b\b\b\b\b\b\b\b\b\b\b\b\b\b\b\b\b\b\b\b\b\b\b\b\b\b\b\b\b\b\b\b\b\b\b\b\b\b\b\b\b\b\b\b\b\b\b\b\b\b\b\b\b\b\b\b\b\b\b\b\b\b\b\b\b\b\b\b\b\b\b\b\b\b\b\b\b\b\b\b\b\b\b\b\b\b\b\b\b\b\b\b\b\b\b\b\b\b\b\b\b\b\b\b\b\b\b\b\b\b\b\b\b\b\b\b\b\b\b\b\b\b\b\b\b\b\b\b\b\b\b\b\b\b\b\b\b\b\b\b\b\b\b\b\b\b\b\b\b\b\b\b\b\b\b\b\b\b\b\b\b\b\b\b\b\b\b\b\b\b\b\b\b\b\b\b\b\b\b\b\b\b\b\b\b\b\b\b\b\b\b\b\b\b\b\b\b\b\b\b\b\b\b\b\b\b\b\b\b\b\b\b\b\b\b\b\b\b\b\b\b\b\b\b\b\b\b\b\b\b\b\b\b\b\b\b\b\b\b\b\b\b\b\b\b\b\b\b\b\b\b\b\b\b\b\b\b\b\b\b\b\b\b\b\b\b\b\b\b\b\b\b\b\b\b\b\b\b\b\b\b\b\b\b\b\b\b\b\b\b\b\b\b\b\b\b\b\b\b\b\b\b\b\b\b\b\b\b\b\b\b\b\b\b\b\b\b\b\b\b\b\b\b\b\b\b\b\b\n",
      "--------------------\n",
      "Total Testing Loss:  0.926 \n",
      "Testing Accuracy:  0.926\n",
      "CPU times: user 6min 59s, sys: 50 s, total: 7min 49s\n",
      "Wall time: 2min 38s\n"
     ]
    }
   ],
   "source": [
    "%%time\n",
    "history = train_and_show_result(model)"
   ]
  },
  {
   "cell_type": "code",
   "execution_count": 28,
   "metadata": {
    "collapsed": false,
    "slideshow": {
     "slide_type": "subslide"
    }
   },
   "outputs": [
    {
     "data": {
      "image/png": "[encoded data removed]",
      "text/plain": [
       "<matplotlib.figure.Figure at 0x11d6ff518>"
      ]
     },
     "metadata": {},
     "output_type": "display_data"
    }
   ],
   "source": [
    "plot_training_history(history)"
   ]
  },
  {
   "cell_type": "markdown",
   "metadata": {
    "slideshow": {
     "slide_type": "slide"
    }
   },
   "source": [
    "# Dropout"
   ]
  },
  {
   "cell_type": "code",
   "execution_count": 29,
   "metadata": {
    "collapsed": true,
    "slideshow": {
     "slide_type": "-"
    }
   },
   "outputs": [],
   "source": [
    "model = Sequential()\n",
    "\n",
    "model.add(Dense(input_dim=28*28, output_dim=500, activation='relu'))\n",
    "\n",
    "model.add(Dropout(0.8))\n",
    "model.add(Dense(output_dim=500, activation='relu'))\n",
    "model.add(Dropout(0.8))\n",
    "model.add(Dense(output_dim=500, activation='relu'))\n",
    "model.add(Dropout(0.8))\n",
    "model.add(Dense(output_dim=500, activation='relu'))\n",
    "model.add(Dropout(0.8))\n",
    "model.add(Dense(output_dim=500, activation='relu'))\n",
    "model.add(Dropout(0.8))\n",
    "model.add(Dense(output_dim=500, activation='relu'))\n",
    "model.add(Dropout(0.8))\n",
    "model.add(Dense(output_dim=500, activation='relu'))\n",
    "model.add(Dropout(0.8))\n",
    "model.add(Dense(output_dim=500, activation='relu'))\n",
    "model.add(Dropout(0.8))\n",
    "model.add(Dense(output_dim=500, activation='relu'))\n",
    "\n",
    "model.add(Dense(output_dim=10, activation='softmax'))"
   ]
  },
  {
   "cell_type": "code",
   "execution_count": 30,
   "metadata": {
    "collapsed": true,
    "slideshow": {
     "slide_type": "subslide"
    }
   },
   "outputs": [],
   "source": [
    "model.compile(loss='categorical_crossentropy',\n",
    "              optimizer=Adam(),\n",
    "              metrics=['accuracy'])"
   ]
  },
  {
   "cell_type": "code",
   "execution_count": 31,
   "metadata": {
    "collapsed": false,
    "slideshow": {
     "slide_type": "subslide"
    }
   },
   "outputs": [
    {
     "name": "stdout",
     "output_type": "stream",
     "text": [
      "Epoch 1/20\n",
      "9s - loss: 4.8432 - acc: 0.1033\n",
      "Epoch 2/20\n",
      "8s - loss: 2.3042 - acc: 0.1277\n",
      "Epoch 3/20\n",
      "8s - loss: 2.1631 - acc: 0.2094\n",
      "Epoch 4/20\n",
      "8s - loss: 2.0366 - acc: 0.2359\n",
      "Epoch 5/20\n",
      "8s - loss: 1.9533 - acc: 0.2450\n",
      "Epoch 6/20\n",
      "10s - loss: 1.8826 - acc: 0.2507\n",
      "Epoch 7/20\n",
      "8s - loss: 1.8410 - acc: 0.2527\n",
      "Epoch 8/20\n",
      "8s - loss: 1.8115 - acc: 0.2612\n",
      "Epoch 9/20\n",
      "9s - loss: 1.7930 - acc: 0.2537\n",
      "Epoch 10/20\n",
      "12s - loss: 1.7721 - acc: 0.2645\n",
      "Epoch 11/20\n",
      "9s - loss: 1.7390 - acc: 0.2701\n",
      "Epoch 12/20\n",
      "8s - loss: 1.7319 - acc: 0.2687\n",
      "Epoch 13/20\n",
      "11s - loss: 1.7138 - acc: 0.2745\n",
      "Epoch 14/20\n",
      "10s - loss: 1.6979 - acc: 0.2792\n",
      "Epoch 15/20\n",
      "9s - loss: 1.7011 - acc: 0.2844\n",
      "Epoch 16/20\n",
      "8s - loss: 1.6855 - acc: 0.2812\n",
      "Epoch 17/20\n",
      "8s - loss: 1.6703 - acc: 0.2888\n",
      "Epoch 18/20\n",
      "9s - loss: 1.6623 - acc: 0.2925\n",
      "Epoch 19/20\n",
      "8s - loss: 1.6514 - acc: 0.2930\n",
      "Epoch 20/20\n",
      "7s - loss: 1.6401 - acc: 0.2999\n",
      "1000/1000 [==============================] - 0s     \b\b\b\b\b\b\b\b\b\b\b\b\b\b\b\b\b\b\b\b\b\b\b\b\b\b\b\b\b\b\b\b\b\b\b\b\b\b\b\b\b\b\b\b\b\b\b\b\b\b\b\b\b\b\b\b\b\b\b\b\b\b\b\b\b\b\b\b\b\b\b\b\b\b\b\b\b\b\b\b\b\b\b\b\b\b\b\b\b\b\b\b\b\b\b\b\b\b\b\b\b\b\b\b\b\b\b\b\b\b\b\b\b\b\b\b\b\b\b\b\b\b\b\b\b\b\b\b\b\b\b\b\b\b\b\b\b\b\b\b\b\b\b\b\b\b\b\b\b\b\b\b\b\b\b\b\b\b\b\b\b\b\b\b\b\b\b\b\b\b\b\b\b\b\b\b\b\b\b\b\b\b\b\b\b\b\b\b\b\b\b\b\b\b\b\b\b\b\b\b\b\b\b\b\b\b\b\b\b\b\b\b\b\b\b\b\b\b\b\b\b\b\b\b\b\b\b\b\b\b\b\b\b\b\b\b\b\b\b\b\b\b\b\b\b\b\b\b\b\b\b\b\b\b\b\b\b\b\b\b\b\b\b\b\b\b\b\b\b\b\b\b\b\b\b\b\b\b\b\b\b\b\b\b\b\b\b\b\b\b\b\b\b\b\b\b\b\b\b\b\b\b\b\b\b\b\b\b\b\b\b\b\b\b\b\b\b\b\b\b\b\b\b\b\b\b\b\b\b\b\b\b\b\b\b\b\b\b\b\b\b\b\b\b\b\b\b\b\b\b\b\b\b\b\b\b\b\b\b\b\b\b\b\b\b\b\b\b\b\b\b\b\b\b\b\b\b\b\b\b\b\b\b\b\b\b\b\b\b\b\b\b\b\b\b\b\b\b\b\b\b\b\b\b\b\b\b\b\b\b\b\b\b\b\b\b\b\b\b\b\b\b\b\b\b\b\b\b\b\b\b\b\b\b\b\b\b\b\b\b\b\b\b\b\b\b\b\b\b\b\b\b\b\b\b\b\b\b\b\b\b\b\b\b\b\b\b\b\b\b\b\b\b\b\b\b\b\b\b\b\b\b\b\b\b\b\b\b\b\b\b\b\b\b\b\b\b\b\b\b\b\b\b\b\b\b\b\b\b\b\b\b\b\b\b\b\b\b\b\b\b\b\b\b\b\b\b\b\b\b\b\b\b\b\b\b\b\b\b\b\b\b\b\b\b\b\b\b\b\b\b\b\b\b\b\b\b\b\b\b\b\b\b\b\b\b\b\b\b\b\b\b\b\b\b\b\b\b\b\b\b\b\b\b\b\b\b\b\b\b\b\b\b\b\b\b\b\b\b\b\b\b\b\b\b\b\b\b\b\b\b\b\b\b\b\b\b\b\b\b\b\b\b\b\b\b\b\b\b\b\b\b\b\b\b\b\b\b\b\b\b\b\b\b\b\b\b\b\b\b\b\b\b\b\b\b\b\b\b\b\b\b\b\b\b\b\b\b\b\b\b\b\b\b\b\b\b\b\b\b\b\b\b\b\b\b\b\b\b\b\b\b\b\b\b\b\b\b\b\b\b\b\b\b\b\b\b\b\b\b\b\b\b\b\b\b\b\b\b\b\b\b\b\b\b\b\b\b\b\b\b\b\b\b\b\b\b\b\b\b\b\b\b\b\b\b\b\b\b\b\b\b\b\b\b\b\b\b\b\b\b\b\b\b\b\b\b\b\b\b\b\b\b\b\b\b\b\b\b\b\b\b\b\b\b\b\b\b\b\b\b\b\b\b\b\b\b\b\b\b\b\b\b\b\b\b\b\b\b\b\b\b\b\b\b\b\b\b\b\b\b\b\b\b\b\b\b\b\b\b\b\b\b\b\b\b\b\b\b\b\b\b\b\b\b\b\b\b\b\b\b\b\b\b\b\b\b\b\b\b\b\b\b\b\b\b\b\b\b\b\b\b\b\b\b\b\b\b\b\b\b\b\b\b\b\b\b\b\b\b\b\b\b\b\b\b\b\b\b\b\b\b\b\b\b\b\b\b\b\b\b\b\b\b\b\b\b\b\b\b\b\b\b\b\b\b\b\b\b\b\b\b\b\b\b\b\b\b\b\b\b\b\b\b\b\b\b\b\b\b\b\b\b\b\b\b\b\b\b\b\b\b\b\b\b\b\b\b\b\b\b\b\b\b\b\b\b\b\b\b\b\b\b\b\b\b\b\b\n",
      "\n",
      "--------------------\n",
      "Total Testing Loss:  0.099 \n",
      "Testing Accuracy:  0.099\n",
      "CPU times: user 7min 25s, sys: 1min 1s, total: 8min 27s\n",
      "Wall time: 3min 7s\n"
     ]
    }
   ],
   "source": [
    "%%time\n",
    "history = train_and_show_result(model)"
   ]
  },
  {
   "cell_type": "code",
   "execution_count": 32,
   "metadata": {
    "collapsed": false,
    "slideshow": {
     "slide_type": "subslide"
    }
   },
   "outputs": [
    {
     "data": {
      "image/png": "[encoded data removed]",
      "text/plain": [
       "<matplotlib.figure.Figure at 0x131e3a0f0>"
      ]
     },
     "metadata": {},
     "output_type": "display_data"
    }
   ],
   "source": [
    "plot_training_history(history)"
   ]
  }
 ],
 "metadata": {
  "celltoolbar": "Slideshow",
  "kernelspec": {
   "display_name": "Python 3",
   "language": "python",
   "name": "python3"
  },
  "language_info": {
   "codemirror_mode": {
    "name": "ipython",
    "version": 3
   },
   "file_extension": ".py",
   "mimetype": "text/x-python",
   "name": "python",
   "nbconvert_exporter": "python",
   "pygments_lexer": "ipython3",
   "version": "3.6.0"
  },
  "livereveal": {
   "scroll": true
  }
 },
 "nbformat": 4,
 "nbformat_minor": 1
}
